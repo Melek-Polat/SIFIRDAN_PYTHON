{
  "nbformat": 4,
  "nbformat_minor": 0,
  "metadata": {
    "colab": {
      "name": "ders 3.Karakter Dizileri- Stringler.ipynb",
      "provenance": [],
      "authorship_tag": "ABX9TyMVCTy52HF1Aqstc7kLXcxk",
      "include_colab_link": true
    },
    "kernelspec": {
      "name": "python3",
      "display_name": "Python 3"
    },
    "language_info": {
      "name": "python"
    }
  },
  "cells": [
    {
      "cell_type": "markdown",
      "metadata": {
        "id": "view-in-github",
        "colab_type": "text"
      },
      "source": [
        "<a href=\"https://colab.research.google.com/github/Melek-Polat/SIFIRDAN_PYTHON/blob/main/ders3.%20Karakter%20Dizileri-Stringler.ipynb\" target=\"_parent\"><img src=\"https://colab.research.google.com/assets/colab-badge.svg\" alt=\"Open In Colab\"/></a>"
      ]
    },
    {
      "cell_type": "code",
      "metadata": {
        "id": "_d7S04VJIxL8"
      },
      "source": [
        ""
      ],
      "execution_count": null,
      "outputs": []
    },
    {
      "cell_type": "markdown",
      "metadata": {
        "id": "FJB81TRq5_9r"
      },
      "source": [
        "#Karakter Dizileri (Stringler)\n",
        "\n",
        "Pythonda bir veri tipi olan Stringler veya türkçe ismiyle karakter dizileri gerçek hayatta kullandığımız yazıların aynısıdır.\n",
        "\n",
        "##String oluşturma \n",
        "\n",
        "Pythonda string oluşturmanın birçok yolu bulunmaktadır.Bunların hangisini kullanacağınız tamamıyla size bağlıdır.Şimdi string oluşturma işlemlerini görmeye başlayalım."
      ]
    },
    {
      "cell_type": "code",
      "metadata": {
        "colab": {
          "base_uri": "https://localhost:8080/",
          "height": 35
        },
        "id": "y_1IV8Jf7H46",
        "outputId": "b417d231-87c8-4b04-83cd-606b462a0366"
      },
      "source": [
        "#Tek tırnak ile\n",
        "'Melek Polat'"
      ],
      "execution_count": 1,
      "outputs": [
        {
          "output_type": "execute_result",
          "data": {
            "application/vnd.google.colaboratory.intrinsic+json": {
              "type": "string"
            },
            "text/plain": [
              "'Melek Polat'"
            ]
          },
          "metadata": {
            "tags": []
          },
          "execution_count": 1
        }
      ]
    },
    {
      "cell_type": "code",
      "metadata": {
        "colab": {
          "base_uri": "https://localhost:8080/",
          "height": 35
        },
        "id": "LRTBC3Kz7oTx",
        "outputId": "bef42096-5b0f-4ee1-f5f7-b8507f0913d0"
      },
      "source": [
        "#Çift tırnak ile\n",
        "\"Melek Polat\""
      ],
      "execution_count": 2,
      "outputs": [
        {
          "output_type": "execute_result",
          "data": {
            "application/vnd.google.colaboratory.intrinsic+json": {
              "type": "string"
            },
            "text/plain": [
              "'Melek Polat'"
            ]
          },
          "metadata": {
            "tags": []
          },
          "execution_count": 2
        }
      ]
    },
    {
      "cell_type": "code",
      "metadata": {
        "colab": {
          "base_uri": "https://localhost:8080/",
          "height": 35
        },
        "id": "ioaZN2iE7xEf",
        "outputId": "75ee3ebb-1ccc-4c60-e7f0-d9053c57cbbf"
      },
      "source": [
        "# 3 tırnak ile\n",
        "\"\"\"Melek Polat\"\"\""
      ],
      "execution_count": 3,
      "outputs": [
        {
          "output_type": "execute_result",
          "data": {
            "application/vnd.google.colaboratory.intrinsic+json": {
              "type": "string"
            },
            "text/plain": [
              "'Melek Polat'"
            ]
          },
          "metadata": {
            "tags": []
          },
          "execution_count": 3
        }
      ]
    },
    {
      "cell_type": "code",
      "metadata": {
        "colab": {
          "base_uri": "https://localhost:8080/",
          "height": 131
        },
        "id": "ySBXnKx07-R-",
        "outputId": "5197f742-dab4-4a26-ebc0-ec1bb1939e50"
      },
      "source": [
        "#hatalı\n",
        "'melek'in bugün dersi var'"
      ],
      "execution_count": 4,
      "outputs": [
        {
          "output_type": "error",
          "ename": "SyntaxError",
          "evalue": "ignored",
          "traceback": [
            "\u001b[0;36m  File \u001b[0;32m\"<ipython-input-4-fd44e515131f>\"\u001b[0;36m, line \u001b[0;32m2\u001b[0m\n\u001b[0;31m    'melek'in bugün dersi var'\u001b[0m\n\u001b[0m                        ^\u001b[0m\n\u001b[0;31mSyntaxError\u001b[0m\u001b[0;31m:\u001b[0m invalid syntax\n"
          ]
        }
      ]
    },
    {
      "cell_type": "code",
      "metadata": {
        "colab": {
          "base_uri": "https://localhost:8080/",
          "height": 35
        },
        "id": "hr0xpHj08my_",
        "outputId": "99a702c4-0d3b-4ab9-c4d8-3d6f3e1ed043"
      },
      "source": [
        "\"melek'in bugün dersi var\""
      ],
      "execution_count": 5,
      "outputs": [
        {
          "output_type": "execute_result",
          "data": {
            "application/vnd.google.colaboratory.intrinsic+json": {
              "type": "string"
            },
            "text/plain": [
              "\"melek'in bugün dersi var\""
            ]
          },
          "metadata": {
            "tags": []
          },
          "execution_count": 5
        }
      ]
    },
    {
      "cell_type": "code",
      "metadata": {
        "colab": {
          "base_uri": "https://localhost:8080/",
          "height": 35
        },
        "id": "AXfhbbrr8zuz",
        "outputId": "8e29da5c-eab6-4ded-a0a9-4a0556b9fd11"
      },
      "source": [
        "'melek\\'in bugün dersi var'"
      ],
      "execution_count": 6,
      "outputs": [
        {
          "output_type": "execute_result",
          "data": {
            "application/vnd.google.colaboratory.intrinsic+json": {
              "type": "string"
            },
            "text/plain": [
              "\"melek'in bugün dersi var\""
            ]
          },
          "metadata": {
            "tags": []
          },
          "execution_count": 6
        }
      ]
    },
    {
      "cell_type": "code",
      "metadata": {
        "colab": {
          "base_uri": "https://localhost:8080/",
          "height": 35
        },
        "id": "I_pkE4si9ZCe",
        "outputId": "6b3eb107-334a-4c9b-e4ac-7726cc77cda5"
      },
      "source": [
        "a = \"Merhaba\"\n",
        "a"
      ],
      "execution_count": 10,
      "outputs": [
        {
          "output_type": "execute_result",
          "data": {
            "application/vnd.google.colaboratory.intrinsic+json": {
              "type": "string"
            },
            "text/plain": [
              "'Merhaba'"
            ]
          },
          "metadata": {
            "tags": []
          },
          "execution_count": 10
        }
      ]
    },
    {
      "cell_type": "markdown",
      "metadata": {
        "id": "BwZP-zzi-BZO"
      },
      "source": [
        "# String indeksleme ve Parçalama\n",
        "\n",
        "Stringler birer karakter dizileri oldukları için her bir karakterin aslında string içinde bir yeri vardır.Örnek olarak \"ali\" stringinde a,l,ve i karakterlerinin yerleri indeks olarak adlandırılır.Pythonda ve genellikle çoğu programlama dilinde (Octava hariç)stringlerin indekslenmesi \"0\" dan başlamaktadır.Şimdi bir string içindeki karakterlere indeks yoluyla nasıl ulaşacağımıza bakalım."
      ]
    },
    {
      "cell_type": "code",
      "metadata": {
        "colab": {
          "base_uri": "https://localhost:8080/",
          "height": 35
        },
        "id": "Pi3c6Pvs_D-p",
        "outputId": "2fd5d8f8-18af-4cb0-deba-7e65917506fa"
      },
      "source": [
        "# 0. elemana ulaşalım.Bunun için [] operatörünü kullanacağız.\n",
        "a = \"ali\"\n",
        "a[0]"
      ],
      "execution_count": 12,
      "outputs": [
        {
          "output_type": "execute_result",
          "data": {
            "application/vnd.google.colaboratory.intrinsic+json": {
              "type": "string"
            },
            "text/plain": [
              "'a'"
            ]
          },
          "metadata": {
            "tags": []
          },
          "execution_count": 12
        }
      ]
    },
    {
      "cell_type": "code",
      "metadata": {
        "colab": {
          "base_uri": "https://localhost:8080/",
          "height": 35
        },
        "id": "SYnyJHH2_phc",
        "outputId": "58236bf3-2983-4f56-e1bc-91249cd91090"
      },
      "source": [
        "# 1.eleman\n",
        "a = \"ali\"\n",
        "a[1]"
      ],
      "execution_count": 13,
      "outputs": [
        {
          "output_type": "execute_result",
          "data": {
            "application/vnd.google.colaboratory.intrinsic+json": {
              "type": "string"
            },
            "text/plain": [
              "'l'"
            ]
          },
          "metadata": {
            "tags": []
          },
          "execution_count": 13
        }
      ]
    },
    {
      "cell_type": "code",
      "metadata": {
        "colab": {
          "base_uri": "https://localhost:8080/",
          "height": 35
        },
        "id": "HRVZPyXw_4pf",
        "outputId": "dc1a78dc-c8ed-4ded-d453-af1378522b68"
      },
      "source": [
        "# 2.eleman\n",
        "a = \"ali\"\n",
        "a[2]"
      ],
      "execution_count": 15,
      "outputs": [
        {
          "output_type": "execute_result",
          "data": {
            "application/vnd.google.colaboratory.intrinsic+json": {
              "type": "string"
            },
            "text/plain": [
              "'i'"
            ]
          },
          "metadata": {
            "tags": []
          },
          "execution_count": 15
        }
      ]
    },
    {
      "cell_type": "markdown",
      "metadata": {
        "id": "rRUAYftEAK4l"
      },
      "source": [
        "Pythonda stringler baştan olduğu gibi sondan da indekslenebilirler.Sondan başlanarak -1 -2 şeklinde indekslenirler."
      ]
    },
    {
      "cell_type": "code",
      "metadata": {
        "colab": {
          "base_uri": "https://localhost:8080/",
          "height": 35
        },
        "id": "8tAByZt-Aaex",
        "outputId": "2fb4ea59-9801-41cb-dc16-395bf62c1bd5"
      },
      "source": [
        "# Sondaki eleman \"-1\" eleman\n",
        "a = \"melek\"\n",
        "a[-1]"
      ],
      "execution_count": 16,
      "outputs": [
        {
          "output_type": "execute_result",
          "data": {
            "application/vnd.google.colaboratory.intrinsic+json": {
              "type": "string"
            },
            "text/plain": [
              "'k'"
            ]
          },
          "metadata": {
            "tags": []
          },
          "execution_count": 16
        }
      ]
    },
    {
      "cell_type": "code",
      "metadata": {
        "colab": {
          "base_uri": "https://localhost:8080/",
          "height": 35
        },
        "id": "n-SaPWXTAoOG",
        "outputId": "660bb17c-f99f-4899-dcfc-ea0f216a5bbb"
      },
      "source": [
        "a[-2]"
      ],
      "execution_count": 17,
      "outputs": [
        {
          "output_type": "execute_result",
          "data": {
            "application/vnd.google.colaboratory.intrinsic+json": {
              "type": "string"
            },
            "text/plain": [
              "'e'"
            ]
          },
          "metadata": {
            "tags": []
          },
          "execution_count": 17
        }
      ]
    },
    {
      "cell_type": "code",
      "metadata": {
        "colab": {
          "base_uri": "https://localhost:8080/",
          "height": 35
        },
        "id": "VFXy8HWYA8wj",
        "outputId": "3f795c15-af48-4e4a-99e1-375a61148ed6"
      },
      "source": [
        "a[-3]"
      ],
      "execution_count": 18,
      "outputs": [
        {
          "output_type": "execute_result",
          "data": {
            "application/vnd.google.colaboratory.intrinsic+json": {
              "type": "string"
            },
            "text/plain": [
              "'l'"
            ]
          },
          "metadata": {
            "tags": []
          },
          "execution_count": 18
        }
      ]
    },
    {
      "cell_type": "code",
      "metadata": {
        "colab": {
          "base_uri": "https://localhost:8080/",
          "height": 35
        },
        "id": "LLodEwDPA_cb",
        "outputId": "e4a6e34a-4b5b-4561-b24c-3f65dfc081be"
      },
      "source": [
        "a[-4]"
      ],
      "execution_count": 19,
      "outputs": [
        {
          "output_type": "execute_result",
          "data": {
            "application/vnd.google.colaboratory.intrinsic+json": {
              "type": "string"
            },
            "text/plain": [
              "'e'"
            ]
          },
          "metadata": {
            "tags": []
          },
          "execution_count": 19
        }
      ]
    },
    {
      "cell_type": "code",
      "metadata": {
        "colab": {
          "base_uri": "https://localhost:8080/",
          "height": 35
        },
        "id": "E2qutT0ABBoj",
        "outputId": "33db3633-109a-4373-a176-dba3a60bc9d8"
      },
      "source": [
        "a[-5]"
      ],
      "execution_count": 20,
      "outputs": [
        {
          "output_type": "execute_result",
          "data": {
            "application/vnd.google.colaboratory.intrinsic+json": {
              "type": "string"
            },
            "text/plain": [
              "'m'"
            ]
          },
          "metadata": {
            "tags": []
          },
          "execution_count": 20
        }
      ]
    },
    {
      "cell_type": "markdown",
      "metadata": {
        "id": "hgvvogPlBU9n"
      },
      "source": [
        "Peki uzun bir stringin sadece belirli bir kısmını elde etmek için ne yapacağız? Bunun için, : ve [] işaretini kullanacağız.Formülümüz şu şekilde :\n",
        "[başlama indeksi:bitiş indeksi:atlama değeri]\n",
        "\n",
        "Şimdi örneklerimize bakalım."
      ]
    },
    {
      "cell_type": "code",
      "metadata": {
        "id": "B6sUlUjEB8nv"
      },
      "source": [
        "a = \"Python Programlama Dili\""
      ],
      "execution_count": 21,
      "outputs": []
    },
    {
      "cell_type": "code",
      "metadata": {
        "colab": {
          "base_uri": "https://localhost:8080/",
          "height": 35
        },
        "id": "NilfoEGRCxHF",
        "outputId": "8fa289f4-9c65-4cc4-81dc-8400d03b6f69"
      },
      "source": [
        "# 4.indeksten başla 10.indekse kadar(dahil değil) al.Boşluklarda sayılır.\n",
        "a[4:10]"
      ],
      "execution_count": 22,
      "outputs": [
        {
          "output_type": "execute_result",
          "data": {
            "application/vnd.google.colaboratory.intrinsic+json": {
              "type": "string"
            },
            "text/plain": [
              "'on Pro'"
            ]
          },
          "metadata": {
            "tags": []
          },
          "execution_count": 22
        }
      ]
    },
    {
      "cell_type": "code",
      "metadata": {
        "colab": {
          "base_uri": "https://localhost:8080/",
          "height": 35
        },
        "id": "Ut9g9JiPB6JU",
        "outputId": "fbf553fc-33d7-483e-e68c-781e485c92aa"
      },
      "source": [
        "# Başlangıç değeri belirtilmemişse en baştan başlayarak alır.\n",
        "a[:10]"
      ],
      "execution_count": 23,
      "outputs": [
        {
          "output_type": "execute_result",
          "data": {
            "application/vnd.google.colaboratory.intrinsic+json": {
              "type": "string"
            },
            "text/plain": [
              "'Python Pro'"
            ]
          },
          "metadata": {
            "tags": []
          },
          "execution_count": 23
        }
      ]
    },
    {
      "cell_type": "code",
      "metadata": {
        "colab": {
          "base_uri": "https://localhost:8080/",
          "height": 35
        },
        "id": "iFaeOhBoEARg",
        "outputId": "ff2ae331-c5a3-4694-f7f8-1a265323c54f"
      },
      "source": [
        "# Bitiş değeri belirtilmemişse en sonuna kadar alır.\n",
        "a[4:]"
      ],
      "execution_count": 24,
      "outputs": [
        {
          "output_type": "execute_result",
          "data": {
            "application/vnd.google.colaboratory.intrinsic+json": {
              "type": "string"
            },
            "text/plain": [
              "'on Programlama Dili'"
            ]
          },
          "metadata": {
            "tags": []
          },
          "execution_count": 24
        }
      ]
    },
    {
      "cell_type": "code",
      "metadata": {
        "colab": {
          "base_uri": "https://localhost:8080/",
          "height": 35
        },
        "id": "1wEzHsYWEgVo",
        "outputId": "7f797645-fee9-4b0f-b951-8c7c72fb1d6e"
      },
      "source": [
        "#İki değerde belirtilmemişse tüm stringi al.\n",
        "a[:]"
      ],
      "execution_count": 25,
      "outputs": [
        {
          "output_type": "execute_result",
          "data": {
            "application/vnd.google.colaboratory.intrinsic+json": {
              "type": "string"
            },
            "text/plain": [
              "'Python Programlama Dili'"
            ]
          },
          "metadata": {
            "tags": []
          },
          "execution_count": 25
        }
      ]
    },
    {
      "cell_type": "code",
      "metadata": {
        "colab": {
          "base_uri": "https://localhost:8080/",
          "height": 35
        },
        "id": "n81GivEREq3A",
        "outputId": "107e9826-7760-4579-f141-ca2429609211"
      },
      "source": [
        "#Son karaktere kadar al.\n",
        "a[:-1]"
      ],
      "execution_count": 26,
      "outputs": [
        {
          "output_type": "execute_result",
          "data": {
            "application/vnd.google.colaboratory.intrinsic+json": {
              "type": "string"
            },
            "text/plain": [
              "'Python Programlama Dil'"
            ]
          },
          "metadata": {
            "tags": []
          },
          "execution_count": 26
        }
      ]
    },
    {
      "cell_type": "code",
      "metadata": {
        "colab": {
          "base_uri": "https://localhost:8080/",
          "height": 35
        },
        "id": "IRdz2PVGE3BE",
        "outputId": "372b813a-0230-4ded-a4fe-60fa82f0148e"
      },
      "source": [
        "# Baştan sona 2 değer atlaya atlaya al \n",
        "a[::2]"
      ],
      "execution_count": 27,
      "outputs": [
        {
          "output_type": "execute_result",
          "data": {
            "application/vnd.google.colaboratory.intrinsic+json": {
              "type": "string"
            },
            "text/plain": [
              "'Pto rgalm ii'"
            ]
          },
          "metadata": {
            "tags": []
          },
          "execution_count": 27
        }
      ]
    },
    {
      "cell_type": "code",
      "metadata": {
        "colab": {
          "base_uri": "https://localhost:8080/",
          "height": 35
        },
        "id": "zEZVRo8QFD0M",
        "outputId": "3fc6a3fa-8ab5-4823-b26a-4966090cea3a"
      },
      "source": [
        "# 4.indeksten 12'nci indekse 3'er atlayarak stringi al\n",
        "a[4:12:3]"
      ],
      "execution_count": 28,
      "outputs": [
        {
          "output_type": "execute_result",
          "data": {
            "application/vnd.google.colaboratory.intrinsic+json": {
              "type": "string"
            },
            "text/plain": [
              "'oPg'"
            ]
          },
          "metadata": {
            "tags": []
          },
          "execution_count": 28
        }
      ]
    },
    {
      "cell_type": "code",
      "metadata": {
        "colab": {
          "base_uri": "https://localhost:8080/",
          "height": 35
        },
        "id": "eL3ThQyRF3yE",
        "outputId": "7ab6a42c-429e-408b-fcd2-759a5581cee2"
      },
      "source": [
        "# Baştan sona -1 atlayarak stringi al.(Stringi ters çevirme)\n",
        "a[::-1]"
      ],
      "execution_count": 29,
      "outputs": [
        {
          "output_type": "execute_result",
          "data": {
            "application/vnd.google.colaboratory.intrinsic+json": {
              "type": "string"
            },
            "text/plain": [
              "'iliD amalmargorP nohtyP'"
            ]
          },
          "metadata": {
            "tags": []
          },
          "execution_count": 29
        }
      ]
    },
    {
      "cell_type": "markdown",
      "metadata": {
        "id": "IoTYlFMvGMsp"
      },
      "source": [
        "#String Özellikleri\n",
        "\n",
        "Bir stringin uzunluğu pythonda len() fonksiyonu ile bulunur."
      ]
    },
    {
      "cell_type": "code",
      "metadata": {
        "colab": {
          "base_uri": "https://localhost:8080/"
        },
        "id": "Kt9-8wbNGesp",
        "outputId": "02dce299-8f5d-4b33-a21e-be7fc1e12ca6"
      },
      "source": [
        "# len()fonksiyonunu kullanma.\n",
        "a = \"Python programlama Dili\"\n",
        "len(a)"
      ],
      "execution_count": 30,
      "outputs": [
        {
          "output_type": "execute_result",
          "data": {
            "text/plain": [
              "23"
            ]
          },
          "metadata": {
            "tags": []
          },
          "execution_count": 30
        }
      ]
    },
    {
      "cell_type": "markdown",
      "metadata": {
        "id": "wONR6Qg7RHMg"
      },
      "source": [
        "Bir stringin boyu direkt olarak değiştirilmez.Buna örnek olarak;"
      ]
    },
    {
      "cell_type": "code",
      "metadata": {
        "id": "BQfM7KNsRVzn"
      },
      "source": [
        "string = \"Merhaba\"\n"
      ],
      "execution_count": 31,
      "outputs": []
    },
    {
      "cell_type": "code",
      "metadata": {
        "colab": {
          "base_uri": "https://localhost:8080/",
          "height": 165
        },
        "id": "Gvmn3Hn1RoW0",
        "outputId": "b8e51b81-721a-4f0c-f5c7-a42bb5df5af9"
      },
      "source": [
        "string[3] = 't'"
      ],
      "execution_count": 32,
      "outputs": [
        {
          "output_type": "error",
          "ename": "TypeError",
          "evalue": "ignored",
          "traceback": [
            "\u001b[0;31m---------------------------------------------------------------------------\u001b[0m",
            "\u001b[0;31mTypeError\u001b[0m                                 Traceback (most recent call last)",
            "\u001b[0;32m<ipython-input-32-1bbcbdbb89c3>\u001b[0m in \u001b[0;36m<module>\u001b[0;34m()\u001b[0m\n\u001b[0;32m----> 1\u001b[0;31m \u001b[0mstring\u001b[0m\u001b[0;34m[\u001b[0m\u001b[0;36m3\u001b[0m\u001b[0;34m]\u001b[0m \u001b[0;34m=\u001b[0m \u001b[0;34m't'\u001b[0m\u001b[0;34m\u001b[0m\u001b[0;34m\u001b[0m\u001b[0m\n\u001b[0m",
            "\u001b[0;31mTypeError\u001b[0m: 'str' object does not support item assignment"
          ]
        }
      ]
    },
    {
      "cell_type": "markdown",
      "metadata": {
        "id": "bCiZo9p9R5xW"
      },
      "source": [
        "Burada python bu işleme izin vermedi.Gördüğümüz gibi, bir stringin karakterlerini direkt olarak değiştiremiyoruz.Çünkü stringler böyle bir işlemi desteklemiyor.\n",
        "\n",
        "\n",
        "Pythonda stringleri toplama ve çarpma mümkündür."
      ]
    },
    {
      "cell_type": "code",
      "metadata": {
        "colab": {
          "base_uri": "https://localhost:8080/",
          "height": 35
        },
        "id": "Gsc6kA39Sbho",
        "outputId": "835f05eb-1187-41c8-fea4-bc0068530642"
      },
      "source": [
        "a = \"Python \"\n",
        "b = \"Programlama \"\n",
        "c = \"Dili\"\n",
        "a + b + c"
      ],
      "execution_count": 34,
      "outputs": [
        {
          "output_type": "execute_result",
          "data": {
            "application/vnd.google.colaboratory.intrinsic+json": {
              "type": "string"
            },
            "text/plain": [
              "'Python Programlama Dili'"
            ]
          },
          "metadata": {
            "tags": []
          },
          "execution_count": 34
        }
      ]
    },
    {
      "cell_type": "code",
      "metadata": {
        "colab": {
          "base_uri": "https://localhost:8080/",
          "height": 35
        },
        "id": "2fI_UfX8Sq3R",
        "outputId": "a9163905-91d0-4eeb-9e7d-ae037b40d700"
      },
      "source": [
        "\"Python\" * 3"
      ],
      "execution_count": 35,
      "outputs": [
        {
          "output_type": "execute_result",
          "data": {
            "application/vnd.google.colaboratory.intrinsic+json": {
              "type": "string"
            },
            "text/plain": [
              "'PythonPythonPython'"
            ]
          },
          "metadata": {
            "tags": []
          },
          "execution_count": 35
        }
      ]
    },
    {
      "cell_type": "markdown",
      "metadata": {
        "id": "v0PRhl-vTgIn"
      },
      "source": [
        "##önemli not\n",
        "Stringlerde bir karakteri direk olarak değiştiremedik fakat stringlerde toplama yaparak stringi yeniden oluşturabiliyoruz."
      ]
    },
    {
      "cell_type": "code",
      "metadata": {
        "colab": {
          "base_uri": "https://localhost:8080/",
          "height": 35
        },
        "id": "wIHvv0VkUDa9",
        "outputId": "fcfde498-ec8e-4449-e7e8-3fd0641759a9"
      },
      "source": [
        "a = \"Python\"\n",
        "\n",
        "a = a + \"Programlama Dili\"\n",
        "\n",
        "a"
      ],
      "execution_count": 38,
      "outputs": [
        {
          "output_type": "execute_result",
          "data": {
            "application/vnd.google.colaboratory.intrinsic+json": {
              "type": "string"
            },
            "text/plain": [
              "'PythonProgramlama Dili'"
            ]
          },
          "metadata": {
            "tags": []
          },
          "execution_count": 38
        }
      ]
    }
  ]
}