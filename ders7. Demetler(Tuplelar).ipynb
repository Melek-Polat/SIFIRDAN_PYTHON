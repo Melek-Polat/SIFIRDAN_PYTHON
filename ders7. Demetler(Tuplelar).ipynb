{
  "nbformat": 4,
  "nbformat_minor": 0,
  "metadata": {
    "colab": {
      "name": "ders7. Demetler(Tuplelar).ipynb",
      "provenance": [],
      "authorship_tag": "ABX9TyMr69Ol1KTvZNNlwahLJmHP",
      "include_colab_link": true
    },
    "kernelspec": {
      "name": "python3",
      "display_name": "Python 3"
    },
    "language_info": {
      "name": "python"
    }
  },
  "cells": [
    {
      "cell_type": "markdown",
      "metadata": {
        "id": "view-in-github",
        "colab_type": "text"
      },
      "source": [
        "<a href=\"https://colab.research.google.com/github/Melek-Polat/SIFIRDAN_PYTHON/blob/main/ders7.%20Demetler(Tuplelar).ipynb\" target=\"_parent\"><img src=\"https://colab.research.google.com/assets/colab-badge.svg\" alt=\"Open In Colab\"/></a>"
      ]
    },
    {
      "cell_type": "markdown",
      "metadata": {
        "id": "DnoVkoQmwd9y"
      },
      "source": [
        "#Demetler(Tuplelar)\n",
        "Demetler veya ingilizce ismiyle tuplelar listelere oldukça benzer ancak farkları demetlerin değiştirilemez oluşudur.Bu yüzden programlarımızda değiştirilmesini istediğimiz değerleri bir demet içinde depolayabiliriz.\n",
        "\n",
        "##Demet Oluşturma\n"
      ]
    },
    {
      "cell_type": "code",
      "metadata": {
        "id": "DQXQYjTUxJIZ"
      },
      "source": [
        "#Demet elemanları parantez içine alınarak demet oluşturulabilir.\n",
        "demet = (1,2,3,4,5,6,7,8,9)"
      ],
      "execution_count": 11,
      "outputs": []
    },
    {
      "cell_type": "code",
      "metadata": {
        "colab": {
          "base_uri": "https://localhost:8080/"
        },
        "id": "isJSP7m8ziQD",
        "outputId": "3836a459-61a5-410a-d69c-ec8ab7219934"
      },
      "source": [
        "#type fonksiyonu yardımıyla türünü öğrenelim\n",
        "type(demet)"
      ],
      "execution_count": 18,
      "outputs": [
        {
          "output_type": "execute_result",
          "data": {
            "text/plain": [
              "tuple"
            ]
          },
          "metadata": {
            "tags": []
          },
          "execution_count": 18
        }
      ]
    },
    {
      "cell_type": "code",
      "metadata": {
        "colab": {
          "base_uri": "https://localhost:8080/"
        },
        "id": "uddhFQ2Myr-Q",
        "outputId": "a12f0517-2cbc-49b1-9217-0041b2f28329"
      },
      "source": [
        "demet[4]  #demetin 4.elemanı"
      ],
      "execution_count": 12,
      "outputs": [
        {
          "output_type": "execute_result",
          "data": {
            "text/plain": [
              "5"
            ]
          },
          "metadata": {
            "tags": []
          },
          "execution_count": 12
        }
      ]
    },
    {
      "cell_type": "code",
      "metadata": {
        "colab": {
          "base_uri": "https://localhost:8080/"
        },
        "id": "sQzT9E6Eywej",
        "outputId": "915e7aca-65d0-49ef-ab07-5e7ec5e26daa"
      },
      "source": [
        "demet[-1]  #demetin sonuncu elemanı"
      ],
      "execution_count": 13,
      "outputs": [
        {
          "output_type": "execute_result",
          "data": {
            "text/plain": [
              "9"
            ]
          },
          "metadata": {
            "tags": []
          },
          "execution_count": 13
        }
      ]
    },
    {
      "cell_type": "code",
      "metadata": {
        "colab": {
          "base_uri": "https://localhost:8080/"
        },
        "id": "u4peDrJwy75l",
        "outputId": "e0964f04-129b-494e-beb7-92f6870fd38e"
      },
      "source": [
        "demet[0]  #demetin 1.elemanı"
      ],
      "execution_count": 14,
      "outputs": [
        {
          "output_type": "execute_result",
          "data": {
            "text/plain": [
              "1"
            ]
          },
          "metadata": {
            "tags": []
          },
          "execution_count": 14
        }
      ]
    },
    {
      "cell_type": "code",
      "metadata": {
        "colab": {
          "base_uri": "https://localhost:8080/"
        },
        "id": "iwkm2WUFzDeN",
        "outputId": "cbd02645-5e90-4865-c1a7-a4caa8fb92af"
      },
      "source": [
        "demet[:4]  #demetin baştan 4 elemanı"
      ],
      "execution_count": 15,
      "outputs": [
        {
          "output_type": "execute_result",
          "data": {
            "text/plain": [
              "(1, 2, 3, 4)"
            ]
          },
          "metadata": {
            "tags": []
          },
          "execution_count": 15
        }
      ]
    },
    {
      "cell_type": "code",
      "metadata": {
        "colab": {
          "base_uri": "https://localhost:8080/"
        },
        "id": "vbVIS_-pzPG1",
        "outputId": "f75bc610-885d-4e37-88de-da7c8d167ee6"
      },
      "source": [
        "demet[::-1]  #demetin ters çevrilmiş,tersten yazılmış hali"
      ],
      "execution_count": 17,
      "outputs": [
        {
          "output_type": "execute_result",
          "data": {
            "text/plain": [
              "(9, 8, 7, 6, 5, 4, 3, 2, 1)"
            ]
          },
          "metadata": {
            "tags": []
          },
          "execution_count": 17
        }
      ]
    },
    {
      "cell_type": "markdown",
      "metadata": {
        "id": "3eLcRCnjzx3K"
      },
      "source": [
        "##Demetlerin Temel Metodları\n",
        "\n",
        "\"index\" metoduyla içine verdiğimiz elemanın hangi indekste olduğunu bulabiliriz.\n",
        "\n",
        "\"count\" metoduyla içine verdiğimiz değerin demette kaç defa geçtiğini bulabiliriz.\n",
        "\n"
      ]
    },
    {
      "cell_type": "code",
      "metadata": {
        "id": "sjbi0cIY0So2"
      },
      "source": [
        "demet2 = (1,1,1,1,1,2,2,4,5)"
      ],
      "execution_count": 19,
      "outputs": []
    },
    {
      "cell_type": "code",
      "metadata": {
        "colab": {
          "base_uri": "https://localhost:8080/"
        },
        "id": "rPxN8j500cg6",
        "outputId": "3a7e12cf-eda2-40c7-b8ac-d5abf7e219fa"
      },
      "source": [
        "demet2.count(1)  #demet 2 içerisinde 1 sayısının 5 tane olduğunu gösterir."
      ],
      "execution_count": 20,
      "outputs": [
        {
          "output_type": "execute_result",
          "data": {
            "text/plain": [
              "5"
            ]
          },
          "metadata": {
            "tags": []
          },
          "execution_count": 20
        }
      ]
    },
    {
      "cell_type": "code",
      "metadata": {
        "colab": {
          "base_uri": "https://localhost:8080/"
        },
        "id": "rdQCx8iv0gfX",
        "outputId": "09a1b8b3-2a11-4f75-d6df-287a832abc4d"
      },
      "source": [
        "demet2.count(5)  #demet 2 nin içerisinde 5 sayısının 1 tane olduğunu gösterir."
      ],
      "execution_count": 21,
      "outputs": [
        {
          "output_type": "execute_result",
          "data": {
            "text/plain": [
              "1"
            ]
          },
          "metadata": {
            "tags": []
          },
          "execution_count": 21
        }
      ]
    },
    {
      "cell_type": "code",
      "metadata": {
        "colab": {
          "base_uri": "https://localhost:8080/"
        },
        "id": "cwzHcOld008B",
        "outputId": "77bb3fbe-308b-4909-e321-7a286f3a1b9f"
      },
      "source": [
        "demet2.count(10)  #demet2 nin içerisinde 10 sayısı hiç olöadığı için sonuçta 0 yazdırdı."
      ],
      "execution_count": 22,
      "outputs": [
        {
          "output_type": "execute_result",
          "data": {
            "text/plain": [
              "0"
            ]
          },
          "metadata": {
            "tags": []
          },
          "execution_count": 22
        }
      ]
    },
    {
      "cell_type": "code",
      "metadata": {
        "id": "eKhRxZ2206EI"
      },
      "source": [
        "demet3 = [\"Python\",\"Php\",\"C\",\"Java\"]  \n"
      ],
      "execution_count": 26,
      "outputs": []
    },
    {
      "cell_type": "code",
      "metadata": {
        "colab": {
          "base_uri": "https://localhost:8080/"
        },
        "id": "F2nfcqEn1lKY",
        "outputId": "f4bc03d7-133a-4b42-d03f-43b257f3387e"
      },
      "source": [
        "demet3.index(\"Python\")  ##python indeksinin kaçıncı eleman olduğunu gösterir."
      ],
      "execution_count": 28,
      "outputs": [
        {
          "output_type": "execute_result",
          "data": {
            "text/plain": [
              "0"
            ]
          },
          "metadata": {
            "tags": []
          },
          "execution_count": 28
        }
      ]
    },
    {
      "cell_type": "code",
      "metadata": {
        "colab": {
          "base_uri": "https://localhost:8080/"
        },
        "id": "xTRdFu7U2Apz",
        "outputId": "33e3381c-9cd4-4b1e-fe43-62b77eacca69"
      },
      "source": [
        "demet3.index(\"Java\")  #Java indeksinin kaçıncı eleman olduğunu gösterir."
      ],
      "execution_count": 29,
      "outputs": [
        {
          "output_type": "execute_result",
          "data": {
            "text/plain": [
              "3"
            ]
          },
          "metadata": {
            "tags": []
          },
          "execution_count": 29
        }
      ]
    },
    {
      "cell_type": "code",
      "metadata": {
        "colab": {
          "base_uri": "https://localhost:8080/",
          "height": 165
        },
        "id": "5Z3iCT-_2PEj",
        "outputId": "000724a9-a652-4690-d96c-13a5cc4d2be3"
      },
      "source": [
        "#hatalı\n",
        "demet3.index(\"AngularJS\")  #hatalı olmasının sebebi AngularJS demetin içinde olmadığı için."
      ],
      "execution_count": 30,
      "outputs": [
        {
          "output_type": "error",
          "ename": "ValueError",
          "evalue": "ignored",
          "traceback": [
            "\u001b[0;31m---------------------------------------------------------------------------\u001b[0m",
            "\u001b[0;31mValueError\u001b[0m                                Traceback (most recent call last)",
            "\u001b[0;32m<ipython-input-30-915c665c9750>\u001b[0m in \u001b[0;36m<module>\u001b[0;34m()\u001b[0m\n\u001b[0;32m----> 1\u001b[0;31m \u001b[0mdemet3\u001b[0m\u001b[0;34m.\u001b[0m\u001b[0mindex\u001b[0m\u001b[0;34m(\u001b[0m\u001b[0;34m\"AngularJS\"\u001b[0m\u001b[0;34m)\u001b[0m\u001b[0;34m\u001b[0m\u001b[0;34m\u001b[0m\u001b[0m\n\u001b[0m",
            "\u001b[0;31mValueError\u001b[0m: 'AngularJS' is not in list"
          ]
        }
      ]
    },
    {
      "cell_type": "markdown",
      "metadata": {
        "id": "FmfTOkE_26WC"
      },
      "source": [
        "##Değiştirilme Özelliği\n",
        "Demetlerin değiştirilemez olduğunu artık biliyoruz.\n"
      ]
    },
    {
      "cell_type": "code",
      "metadata": {
        "colab": {
          "base_uri": "https://localhost:8080/",
          "height": 182
        },
        "id": "4hZaIE5Y3EEf",
        "outputId": "d1a74fda-b850-4101-9676-3c87162e0f39"
      },
      "source": [
        "demet = (1,2,3,4,5,6)\n",
        "demet[-1]= 10"
      ],
      "execution_count": 32,
      "outputs": [
        {
          "output_type": "error",
          "ename": "TypeError",
          "evalue": "ignored",
          "traceback": [
            "\u001b[0;31m---------------------------------------------------------------------------\u001b[0m",
            "\u001b[0;31mTypeError\u001b[0m                                 Traceback (most recent call last)",
            "\u001b[0;32m<ipython-input-32-5bd3c0294f64>\u001b[0m in \u001b[0;36m<module>\u001b[0;34m()\u001b[0m\n\u001b[1;32m      1\u001b[0m \u001b[0mdemet\u001b[0m \u001b[0;34m=\u001b[0m \u001b[0;34m(\u001b[0m\u001b[0;36m1\u001b[0m\u001b[0;34m,\u001b[0m\u001b[0;36m2\u001b[0m\u001b[0;34m,\u001b[0m\u001b[0;36m3\u001b[0m\u001b[0;34m,\u001b[0m\u001b[0;36m4\u001b[0m\u001b[0;34m,\u001b[0m\u001b[0;36m5\u001b[0m\u001b[0;34m,\u001b[0m\u001b[0;36m6\u001b[0m\u001b[0;34m)\u001b[0m\u001b[0;34m\u001b[0m\u001b[0;34m\u001b[0m\u001b[0m\n\u001b[0;32m----> 2\u001b[0;31m \u001b[0mdemet\u001b[0m\u001b[0;34m[\u001b[0m\u001b[0;34m-\u001b[0m\u001b[0;36m1\u001b[0m\u001b[0;34m]\u001b[0m\u001b[0;34m=\u001b[0m \u001b[0;36m10\u001b[0m\u001b[0;34m\u001b[0m\u001b[0;34m\u001b[0m\u001b[0m\n\u001b[0m",
            "\u001b[0;31mTypeError\u001b[0m: 'tuple' object does not support item assignment"
          ]
        }
      ]
    },
    {
      "cell_type": "markdown",
      "metadata": {
        "id": "nAXuMeAP3duc"
      },
      "source": [
        "##Demetleri Ne Zaman Kullanalım\n",
        "\n",
        "Aslında python programcıları demetlerden ziyade listeleri daha çok kullanır.Ancak eğer programımızda değiştirilmesini istemediğiniz bilgiler varsa (Android uygulama sabitleri gibi) bunları demet içinde depolayabilirsiniz.Read Only(Sadece okuma) bir veritipi olduğu için listelere göre biraz daha hızlı çalışırlar."
      ]
    }
  ]
}