{
  "nbformat": 4,
  "nbformat_minor": 0,
  "metadata": {
    "colab": {
      "name": "ders6. Listeler.ipynb",
      "provenance": [],
      "authorship_tag": "ABX9TyM5ovyhRrE+M9jrkzrvD1Z/",
      "include_colab_link": true
    },
    "kernelspec": {
      "name": "python3",
      "display_name": "Python 3"
    },
    "language_info": {
      "name": "python"
    }
  },
  "cells": [
    {
      "cell_type": "markdown",
      "metadata": {
        "id": "view-in-github",
        "colab_type": "text"
      },
      "source": [
        "<a href=\"https://colab.research.google.com/github/Melek-Polat/SIFIRDAN_PYTHON/blob/main/ders6.%20Listeler.ipynb\" target=\"_parent\"><img src=\"https://colab.research.google.com/assets/colab-badge.svg\" alt=\"Open In Colab\"/></a>"
      ]
    },
    {
      "cell_type": "markdown",
      "metadata": {
        "id": "oa-k91lg1j5O"
      },
      "source": [
        "#LİSTELER\n",
        "Listeler yapıları gereği stringlere oldukça benzerler ve kullanıldıkları yerlerde çok yararlı olan bir veritipidir.Tıpkı stringler gibi, indekslenirler, parçalanırlar ve üzerinde değişik işlemler yapabildiğimiz metotlar bulunur.Ancak listelerin stringlerden önemli farkları da bulunmaktadır.Stringler konusunda bildiğimiz kadarıyla stringler değiştirilemez bir veri tipidir.Ancak listelerimiz değiştirilebilir bir veri tipidir.\n",
        "\n",
        "Bu listede her veri tipinden elemanı saklayabiliriz.Bu anlamda sıralı bir diziye benzer.Peki bu konuda ne öğreneceğiz?\n",
        "\n",
        "1. Liste oluşturma\n",
        "2. Indeksleme ve Parçalama\n",
        "3. Temel Liste Metodları ve İşlemleri\n",
        "4. İç İçe Listeler\n",
        "\n",
        "## Liste Oluşturma\n",
        "Listeler bir [] köşeli parantez içine veriler veya değerler konarak oluşturulabilir."
      ]
    },
    {
      "cell_type": "code",
      "metadata": {
        "colab": {
          "base_uri": "https://localhost:8080/"
        },
        "id": "KFlXKTQX4ssP",
        "outputId": "9ca71995-9053-49ca-cd88-7156fd8884de"
      },
      "source": [
        "liste = [3,4,8,3.14,\"melek\",\"merhaba\"]\n",
        "liste"
      ],
      "execution_count": 1,
      "outputs": [
        {
          "output_type": "execute_result",
          "data": {
            "text/plain": [
              "[3, 4, 8, 3.14, 'melek', 'merhaba']"
            ]
          },
          "metadata": {
            "tags": []
          },
          "execution_count": 1
        }
      ]
    },
    {
      "cell_type": "code",
      "metadata": {
        "colab": {
          "base_uri": "https://localhost:8080/"
        },
        "id": "8mK_Z8RV5g_2",
        "outputId": "4e1dbfed-e00f-42c5-a30e-d10734c6b930"
      },
      "source": [
        "liste2 = [878,456,2,45]\n",
        "liste2"
      ],
      "execution_count": 2,
      "outputs": [
        {
          "output_type": "execute_result",
          "data": {
            "text/plain": [
              "[878, 456, 2, 45]"
            ]
          },
          "metadata": {
            "tags": []
          },
          "execution_count": 2
        }
      ]
    },
    {
      "cell_type": "code",
      "metadata": {
        "colab": {
          "base_uri": "https://localhost:8080/"
        },
        "id": "ypXXxrdv5sTl",
        "outputId": "46fd129e-55c8-4a7e-e638-2144b0b7a4de"
      },
      "source": [
        "#boş liste\n",
        "liste = []\n",
        "liste"
      ],
      "execution_count": 3,
      "outputs": [
        {
          "output_type": "execute_result",
          "data": {
            "text/plain": [
              "[]"
            ]
          },
          "metadata": {
            "tags": []
          },
          "execution_count": 3
        }
      ]
    },
    {
      "cell_type": "code",
      "metadata": {
        "colab": {
          "base_uri": "https://localhost:8080/"
        },
        "id": "0rZ_H2zx50Sn",
        "outputId": "ea6b33ac-92ac-48eb-8fb0-54a25412ce0f"
      },
      "source": [
        "#boş liste . list()fonksiyonuyla da oluşturulabilir\n",
        "liste = list()\n",
        "liste"
      ],
      "execution_count": 4,
      "outputs": [
        {
          "output_type": "execute_result",
          "data": {
            "text/plain": [
              "[]"
            ]
          },
          "metadata": {
            "tags": []
          },
          "execution_count": 4
        }
      ]
    },
    {
      "cell_type": "code",
      "metadata": {
        "colab": {
          "base_uri": "https://localhost:8080/"
        },
        "id": "-pqPofFh6FOj",
        "outputId": "ce3bbb20-c219-4a1d-c40b-476f377ede31"
      },
      "source": [
        "boş_liste = list()\n",
        "boş_liste"
      ],
      "execution_count": 5,
      "outputs": [
        {
          "output_type": "execute_result",
          "data": {
            "text/plain": [
              "[]"
            ]
          },
          "metadata": {
            "tags": []
          },
          "execution_count": 5
        }
      ]
    },
    {
      "cell_type": "code",
      "metadata": {
        "colab": {
          "base_uri": "https://localhost:8080/"
        },
        "id": "odpZnRqN6MBa",
        "outputId": "fbf4538d-c31d-41c2-a96d-53f525f0a019"
      },
      "source": [
        "#len fonksiyonu listeler üzerinde de kullanılabilir.\n",
        "liste3 = [2,8,45,78,65,4]\n",
        "len(liste3)"
      ],
      "execution_count": 6,
      "outputs": [
        {
          "output_type": "execute_result",
          "data": {
            "text/plain": [
              "6"
            ]
          },
          "metadata": {
            "tags": []
          },
          "execution_count": 6
        }
      ]
    },
    {
      "cell_type": "code",
      "metadata": {
        "colab": {
          "base_uri": "https://localhost:8080/"
        },
        "id": "DpHKZEmM6h2u",
        "outputId": "871d1fff-a0c3-4713-a82a-0742d62f8064"
      },
      "source": [
        "liste = [1,2,3,4,5,6,7,8,9]\n",
        "len(liste)"
      ],
      "execution_count": 8,
      "outputs": [
        {
          "output_type": "execute_result",
          "data": {
            "text/plain": [
              "9"
            ]
          },
          "metadata": {
            "tags": []
          },
          "execution_count": 8
        }
      ]
    },
    {
      "cell_type": "code",
      "metadata": {
        "colab": {
          "base_uri": "https://localhost:8080/"
        },
        "id": "LNT15VJK6uHG",
        "outputId": "42a2ea0a-8f7f-4d9b-f0ad-bf55333fbbce"
      },
      "source": [
        "#bir string list() fonksiyonu yardımıyla listeye dönüştürülebilir.\n",
        "liste = list(\"merhaba\")\n",
        "liste"
      ],
      "execution_count": 9,
      "outputs": [
        {
          "output_type": "execute_result",
          "data": {
            "text/plain": [
              "['m', 'e', 'r', 'h', 'a', 'b', 'a']"
            ]
          },
          "metadata": {
            "tags": []
          },
          "execution_count": 9
        }
      ]
    },
    {
      "cell_type": "code",
      "metadata": {
        "colab": {
          "base_uri": "https://localhost:8080/"
        },
        "id": "XhS2c0Lh7WSh",
        "outputId": "e4ba558c-cf95-42ac-a9b9-6ca536cc7d6e"
      },
      "source": [
        "len(liste)"
      ],
      "execution_count": 10,
      "outputs": [
        {
          "output_type": "execute_result",
          "data": {
            "text/plain": [
              "7"
            ]
          },
          "metadata": {
            "tags": []
          },
          "execution_count": 10
        }
      ]
    },
    {
      "cell_type": "markdown",
      "metadata": {
        "id": "vjW-nvXw7eRw"
      },
      "source": [
        "#Listeleri İndeksleme ve Parçalama\n",
        "Listeleri indeksleme ve parçalama stringlerle birebir olarak aynıdır."
      ]
    },
    {
      "cell_type": "code",
      "metadata": {
        "id": "EB2FnDlF7soV"
      },
      "source": [
        "liste = [1,2,3,4,5,6,7,10,85]"
      ],
      "execution_count": 14,
      "outputs": []
    },
    {
      "cell_type": "code",
      "metadata": {
        "colab": {
          "base_uri": "https://localhost:8080/"
        },
        "id": "Vod_O6OA8ENE",
        "outputId": "1dc392e8-03ba-475a-b9d0-998956088fd7"
      },
      "source": [
        "liste[2]"
      ],
      "execution_count": 15,
      "outputs": [
        {
          "output_type": "execute_result",
          "data": {
            "text/plain": [
              "3"
            ]
          },
          "metadata": {
            "tags": []
          },
          "execution_count": 15
        }
      ]
    },
    {
      "cell_type": "code",
      "metadata": {
        "colab": {
          "base_uri": "https://localhost:8080/"
        },
        "id": "KKh98LAU8ULJ",
        "outputId": "73da1780-9791-4e3c-a0cc-3b064cb9ec01"
      },
      "source": [
        "liste[7]"
      ],
      "execution_count": 16,
      "outputs": [
        {
          "output_type": "execute_result",
          "data": {
            "text/plain": [
              "10"
            ]
          },
          "metadata": {
            "tags": []
          },
          "execution_count": 16
        }
      ]
    },
    {
      "cell_type": "code",
      "metadata": {
        "colab": {
          "base_uri": "https://localhost:8080/"
        },
        "id": "yx67nQQo8c1k",
        "outputId": "ebcf149f-c8c4-4535-cd61-08429c103f81"
      },
      "source": [
        "#sondaki elemanı indekleme için\n",
        "liste[-1]"
      ],
      "execution_count": 17,
      "outputs": [
        {
          "output_type": "execute_result",
          "data": {
            "text/plain": [
              "85"
            ]
          },
          "metadata": {
            "tags": []
          },
          "execution_count": 17
        }
      ]
    },
    {
      "cell_type": "code",
      "metadata": {
        "colab": {
          "base_uri": "https://localhost:8080/"
        },
        "id": "jD_S8nF08m49",
        "outputId": "24fcc7eb-e5b8-487b-bdf9-f73075912e11"
      },
      "source": [
        "liste[-2]"
      ],
      "execution_count": 18,
      "outputs": [
        {
          "output_type": "execute_result",
          "data": {
            "text/plain": [
              "10"
            ]
          },
          "metadata": {
            "tags": []
          },
          "execution_count": 18
        }
      ]
    },
    {
      "cell_type": "code",
      "metadata": {
        "colab": {
          "base_uri": "https://localhost:8080/"
        },
        "id": "EcuVsLYh8qq1",
        "outputId": "321551ab-82e8-4233-c036-a3f5dd5c58dd"
      },
      "source": [
        "#listemizin boyu\n",
        "len(liste)"
      ],
      "execution_count": 20,
      "outputs": [
        {
          "output_type": "execute_result",
          "data": {
            "text/plain": [
              "9"
            ]
          },
          "metadata": {
            "tags": []
          },
          "execution_count": 20
        }
      ]
    },
    {
      "cell_type": "code",
      "metadata": {
        "colab": {
          "base_uri": "https://localhost:8080/"
        },
        "id": "nkKZS-Xq8330",
        "outputId": "465adddf-50cc-40e7-a4d8-d72af066bfc3"
      },
      "source": [
        "#4.indeksten sonrasını parçalama\n",
        "liste[4:]"
      ],
      "execution_count": 21,
      "outputs": [
        {
          "output_type": "execute_result",
          "data": {
            "text/plain": [
              "[5, 6, 7, 10, 85]"
            ]
          },
          "metadata": {
            "tags": []
          },
          "execution_count": 21
        }
      ]
    },
    {
      "cell_type": "code",
      "metadata": {
        "colab": {
          "base_uri": "https://localhost:8080/"
        },
        "id": "-9ySeS8t_xXa",
        "outputId": "00d3d7a5-2e6b-4b95-f23c-5ee7caa87588"
      },
      "source": [
        "#5.indeksten öncesini parçalama\n",
        "liste[:5]"
      ],
      "execution_count": 22,
      "outputs": [
        {
          "output_type": "execute_result",
          "data": {
            "text/plain": [
              "[1, 2, 3, 4, 5]"
            ]
          },
          "metadata": {
            "tags": []
          },
          "execution_count": 22
        }
      ]
    },
    {
      "cell_type": "code",
      "metadata": {
        "colab": {
          "base_uri": "https://localhost:8080/"
        },
        "id": "jei7Nfvk_3r9",
        "outputId": "6179415f-1bf9-4bc6-d0ae-4e62ec8c5ac1"
      },
      "source": [
        "#baştan sona kadar 2 atlayarak parçalama\n",
        "liste[::2]"
      ],
      "execution_count": 23,
      "outputs": [
        {
          "output_type": "execute_result",
          "data": {
            "text/plain": [
              "[1, 3, 5, 7, 85]"
            ]
          },
          "metadata": {
            "tags": []
          },
          "execution_count": 23
        }
      ]
    },
    {
      "cell_type": "code",
      "metadata": {
        "colab": {
          "base_uri": "https://localhost:8080/"
        },
        "id": "pNQ3vzHTACgJ",
        "outputId": "c415654e-8705-4415-a2ae-e2c73ad4a845"
      },
      "source": [
        "#listeyi sondan başa doğru parçalama(listeyi ters çevirdi)\n",
        "liste[::-1]"
      ],
      "execution_count": 24,
      "outputs": [
        {
          "output_type": "execute_result",
          "data": {
            "text/plain": [
              "[85, 10, 7, 6, 5, 4, 3, 2, 1]"
            ]
          },
          "metadata": {
            "tags": []
          },
          "execution_count": 24
        }
      ]
    },
    {
      "cell_type": "markdown",
      "metadata": {
        "id": "7k2sssqJBHd7"
      },
      "source": [
        "#Temel Liste Metodları ve İşlemleri\n",
        "Bu kısımda da listelerde yapabileceğimiz temel işlemleri ve bazı temel metodları öğreneceğiz.Listelerin daha bir çok metodunu  ileriki kısımlarda görüyor olacağız.\n",
        "\n",
        "Bu listeyi birbirine toplama işlemini stringlerdeki gibi yapabiliriz."
      ]
    },
    {
      "cell_type": "code",
      "metadata": {
        "colab": {
          "base_uri": "https://localhost:8080/"
        },
        "id": "1uuuGyKHBtqC",
        "outputId": "6c8001c7-fd82-4913-99d2-d20a292e0e07"
      },
      "source": [
        "liste1 = [1,2,3,4,5,6]\n",
        "liste2 = [7,8,9,10]\n",
        "liste3 = liste1 + liste2\n",
        "liste3"
      ],
      "execution_count": 25,
      "outputs": [
        {
          "output_type": "execute_result",
          "data": {
            "text/plain": [
              "[1, 2, 3, 4, 5, 6, 7, 8, 9, 10]"
            ]
          },
          "metadata": {
            "tags": []
          },
          "execution_count": 25
        }
      ]
    },
    {
      "cell_type": "code",
      "metadata": {
        "colab": {
          "base_uri": "https://localhost:8080/"
        },
        "id": "2kKum9xOCvFp",
        "outputId": "2ab7999b-c965-4adb-f11f-0fc8ce94fe47"
      },
      "source": [
        "liste1 * 3"
      ],
      "execution_count": 26,
      "outputs": [
        {
          "output_type": "execute_result",
          "data": {
            "text/plain": [
              "[1, 2, 3, 4, 5, 6, 1, 2, 3, 4, 5, 6, 1, 2, 3, 4, 5, 6]"
            ]
          },
          "metadata": {
            "tags": []
          },
          "execution_count": 26
        }
      ]
    },
    {
      "cell_type": "code",
      "metadata": {
        "id": "NOpc9TnfCy7w"
      },
      "source": [
        " #yeni liste1'imizi 1,2,3,4,5,6 değilde 1,2,3,4,5,6,1,2,3,4,5,6,1,2,3,4,5,6 olarak atamış olduk.Bundan sonraki işlemler yeni liste üzerinden yapılır\n",
        " liste1 = liste1 * 3"
      ],
      "execution_count": 30,
      "outputs": []
    },
    {
      "cell_type": "code",
      "metadata": {
        "colab": {
          "base_uri": "https://localhost:8080/"
        },
        "id": "DVWoopP2DLYq",
        "outputId": "f316c31e-830c-4b5a-9573-ff71474b3242"
      },
      "source": [
        "liste2"
      ],
      "execution_count": 31,
      "outputs": [
        {
          "output_type": "execute_result",
          "data": {
            "text/plain": [
              "[7, 8, 9, 10]"
            ]
          },
          "metadata": {
            "tags": []
          },
          "execution_count": 31
        }
      ]
    },
    {
      "cell_type": "code",
      "metadata": {
        "colab": {
          "base_uri": "https://localhost:8080/"
        },
        "id": "QNwHqRbXmPQo",
        "outputId": "66143a54-607a-4427-8028-c72e5f21065d"
      },
      "source": [
        "liste2[1] = 11  #liste2 de 1.indeksi değiştirmek için bu işlem yapılır.\n",
        "liste2\n"
      ],
      "execution_count": 33,
      "outputs": [
        {
          "output_type": "execute_result",
          "data": {
            "text/plain": [
              "[7, 11, 9, 10]"
            ]
          },
          "metadata": {
            "tags": []
          },
          "execution_count": 33
        }
      ]
    },
    {
      "cell_type": "code",
      "metadata": {
        "colab": {
          "base_uri": "https://localhost:8080/"
        },
        "id": "W0j-uPPTmgHw",
        "outputId": "9c4430ba-084c-46f0-e93a-bf4d8d56b4f4"
      },
      "source": [
        "liste = [1,2,3,4,5,6]\n",
        "liste[:2]\n"
      ],
      "execution_count": 43,
      "outputs": [
        {
          "output_type": "execute_result",
          "data": {
            "text/plain": [
              "[1, 2]"
            ]
          },
          "metadata": {
            "tags": []
          },
          "execution_count": 43
        }
      ]
    },
    {
      "cell_type": "code",
      "metadata": {
        "colab": {
          "base_uri": "https://localhost:8080/"
        },
        "id": "MiijC2NgnBY7",
        "outputId": "d6d53047-500d-4c89-dba2-6232610f10e5"
      },
      "source": [
        "liste[:2] = [10,11]  #liste2 deki ilk 2 elemanı bu şekilde değiştirmiş olduk\n",
        "liste"
      ],
      "execution_count": 44,
      "outputs": [
        {
          "output_type": "execute_result",
          "data": {
            "text/plain": [
              "[10, 11, 3, 4, 5, 6]"
            ]
          },
          "metadata": {
            "tags": []
          },
          "execution_count": 44
        }
      ]
    },
    {
      "cell_type": "markdown",
      "metadata": {
        "id": "OldXUoLlotze"
      },
      "source": [
        "Listeler,diğer programlama dillerindeki arraylere göre oldukça esnektir.Belli bir boyutları yoktur ve ekleme ,çıkarma yapmak oldukça kolaydır.\n",
        "\n",
        "###append metodu\n",
        "append metodu,verdiğimiz değeri listeye eklememizi sağlar.\n"
      ]
    },
    {
      "cell_type": "code",
      "metadata": {
        "id": "tgSpFm3ypVs5"
      },
      "source": [
        "liste.append(\"python\")"
      ],
      "execution_count": 45,
      "outputs": []
    },
    {
      "cell_type": "code",
      "metadata": {
        "colab": {
          "base_uri": "https://localhost:8080/"
        },
        "id": "Npmv9-BSpzsc",
        "outputId": "33337c79-e4c1-48ee-943a-a79c7cc7acf9"
      },
      "source": [
        "liste"
      ],
      "execution_count": 46,
      "outputs": [
        {
          "output_type": "execute_result",
          "data": {
            "text/plain": [
              "[10, 11, 3, 4, 5, 6, 'python']"
            ]
          },
          "metadata": {
            "tags": []
          },
          "execution_count": 46
        }
      ]
    },
    {
      "cell_type": "code",
      "metadata": {
        "id": "0rYlveh2p05k"
      },
      "source": [
        "liste.append(12)"
      ],
      "execution_count": 47,
      "outputs": []
    },
    {
      "cell_type": "code",
      "metadata": {
        "colab": {
          "base_uri": "https://localhost:8080/"
        },
        "id": "-pAZ0RpEp6gj",
        "outputId": "7cf525f8-6095-4c4c-b187-d628f5e84f6e"
      },
      "source": [
        "liste"
      ],
      "execution_count": 48,
      "outputs": [
        {
          "output_type": "execute_result",
          "data": {
            "text/plain": [
              "[10, 11, 3, 4, 5, 6, 'python', 12]"
            ]
          },
          "metadata": {
            "tags": []
          },
          "execution_count": 48
        }
      ]
    },
    {
      "cell_type": "markdown",
      "metadata": {
        "id": "CZzUhZC0p-1V"
      },
      "source": [
        "###pop metodu\n",
        "Bu metod, içine değer vermezsek listenin son indeksindeki elemanı,değer verirsek değere karşılık gelen indeksteki elemanı listeden atar ve attığı elemanı ekrana basar."
      ]
    },
    {
      "cell_type": "code",
      "metadata": {
        "colab": {
          "base_uri": "https://localhost:8080/"
        },
        "id": "dpE4AzmAqCun",
        "outputId": "96579ca9-ea63-4813-e88c-665708e2d5a0"
      },
      "source": [
        "liste.pop()"
      ],
      "execution_count": 49,
      "outputs": [
        {
          "output_type": "execute_result",
          "data": {
            "text/plain": [
              "12"
            ]
          },
          "metadata": {
            "tags": []
          },
          "execution_count": 49
        }
      ]
    },
    {
      "cell_type": "code",
      "metadata": {
        "colab": {
          "base_uri": "https://localhost:8080/"
        },
        "id": "0tGtSGkNqnoF",
        "outputId": "269100f0-c894-470f-f084-4e23dad42997"
      },
      "source": [
        "liste"
      ],
      "execution_count": 50,
      "outputs": [
        {
          "output_type": "execute_result",
          "data": {
            "text/plain": [
              "[10, 11, 3, 4, 5, 6, 'python']"
            ]
          },
          "metadata": {
            "tags": []
          },
          "execution_count": 50
        }
      ]
    },
    {
      "cell_type": "code",
      "metadata": {
        "colab": {
          "base_uri": "https://localhost:8080/"
        },
        "id": "njC4OxmzqpSd",
        "outputId": "202b6f5a-9558-457c-dc65-9495144dda2f"
      },
      "source": [
        "liste.pop(0)"
      ],
      "execution_count": 51,
      "outputs": [
        {
          "output_type": "execute_result",
          "data": {
            "text/plain": [
              "10"
            ]
          },
          "metadata": {
            "tags": []
          },
          "execution_count": 51
        }
      ]
    },
    {
      "cell_type": "code",
      "metadata": {
        "colab": {
          "base_uri": "https://localhost:8080/"
        },
        "id": "d6-0jHiyqvVH",
        "outputId": "4d09875e-bb50-4862-efa5-fba73f060f78"
      },
      "source": [
        "liste  #yeni listede artık 10 elemanının olmadığını ve onu attığını görmüş bulunmaktayız."
      ],
      "execution_count": 52,
      "outputs": [
        {
          "output_type": "execute_result",
          "data": {
            "text/plain": [
              "[11, 3, 4, 5, 6, 'python']"
            ]
          },
          "metadata": {
            "tags": []
          },
          "execution_count": 52
        }
      ]
    },
    {
      "cell_type": "markdown",
      "metadata": {
        "id": "qetJU7hmrAyX"
      },
      "source": [
        "###sort metodu\n",
        "sort metodu listenin elemanlarını sıralamamızı sağlar."
      ]
    },
    {
      "cell_type": "code",
      "metadata": {
        "id": "np7ippMPrKIi"
      },
      "source": [
        "liste = [34,2,1,5,32,100]\n",
        "liste.sort()"
      ],
      "execution_count": 53,
      "outputs": []
    },
    {
      "cell_type": "code",
      "metadata": {
        "colab": {
          "base_uri": "https://localhost:8080/"
        },
        "id": "f-y4k-jQrULZ",
        "outputId": "63013d5e-e64b-4736-d1ad-500258064d1b"
      },
      "source": [
        "liste  #sort metodunun verilen elemanları küçükten büyüğe sıraladığını görüyoruz."
      ],
      "execution_count": 54,
      "outputs": [
        {
          "output_type": "execute_result",
          "data": {
            "text/plain": [
              "[1, 2, 5, 32, 34, 100]"
            ]
          },
          "metadata": {
            "tags": []
          },
          "execution_count": 54
        }
      ]
    },
    {
      "cell_type": "code",
      "metadata": {
        "id": "HwV9vmgprU0K"
      },
      "source": [
        "liste.sort(reverse = True) #listeyi tersten sıralamak için yapılır.Büyükten küçüğe sıraladı."
      ],
      "execution_count": 55,
      "outputs": []
    },
    {
      "cell_type": "code",
      "metadata": {
        "colab": {
          "base_uri": "https://localhost:8080/"
        },
        "id": "jp-6HK_3rnYY",
        "outputId": "384f1c6b-294e-4228-c207-f3dfc13d1506"
      },
      "source": [
        "liste"
      ],
      "execution_count": 56,
      "outputs": [
        {
          "output_type": "execute_result",
          "data": {
            "text/plain": [
              "[100, 34, 32, 5, 2, 1]"
            ]
          },
          "metadata": {
            "tags": []
          },
          "execution_count": 56
        }
      ]
    },
    {
      "cell_type": "code",
      "metadata": {
        "colab": {
          "base_uri": "https://localhost:8080/"
        },
        "id": "6UvbZu3JroWT",
        "outputId": "b09300d0-90c9-4261-8309-4d03fc7226aa"
      },
      "source": [
        "liste = [\"Php\",\"Python\",\"Java\",\"C\"]\n",
        "liste.sort()  #sözlükte alfabetik olarak sıralamayı da sort metodu sayesinde yapabiliriz.\n",
        "liste"
      ],
      "execution_count": 60,
      "outputs": [
        {
          "output_type": "execute_result",
          "data": {
            "text/plain": [
              "['C', 'Java', 'Php', 'Python']"
            ]
          },
          "metadata": {
            "tags": []
          },
          "execution_count": 60
        }
      ]
    },
    {
      "cell_type": "code",
      "metadata": {
        "colab": {
          "base_uri": "https://localhost:8080/"
        },
        "id": "_nFfFwU-scQY",
        "outputId": "fd30f6f1-faa5-4def-dc8e-7c29e09e379c"
      },
      "source": [
        "liste.sort(reverse = True)  #alfabetik sıralamayı tersten yapmayı sağlar.\n",
        "liste"
      ],
      "execution_count": 63,
      "outputs": [
        {
          "output_type": "execute_result",
          "data": {
            "text/plain": [
              "['Python', 'Php', 'Java', 'C']"
            ]
          },
          "metadata": {
            "tags": []
          },
          "execution_count": 63
        }
      ]
    },
    {
      "cell_type": "markdown",
      "metadata": {
        "id": "u7zV696JtKmH"
      },
      "source": [
        "###İç iç listeler\n",
        "Bu listenin içinde başka bir liste bulundurmak mümkündür.Bunlara Pythonda iç içe listeler denmektedir.Bu tip bir özellik, Pythonda ağaç yapılarında veya matris yapılarında oldukça kullanışlı olmaktadır."
      ]
    },
    {
      "cell_type": "code",
      "metadata": {
        "colab": {
          "base_uri": "https://localhost:8080/"
        },
        "id": "QkpO3nxctwgF",
        "outputId": "8fdbcdfd-45bb-4bb4-c59a-2d062f99a449"
      },
      "source": [
        "# 3 tane liste oluşturalım.\n",
        "liste1 = [1,2,3]\n",
        "liste2 = [4,5,6]\n",
        "liste3 = [7,8,9]\n",
        "\n",
        "yeniliste = [liste1,liste2,liste3]\n",
        "yeniliste"
      ],
      "execution_count": 64,
      "outputs": [
        {
          "output_type": "execute_result",
          "data": {
            "text/plain": [
              "[[1, 2, 3], [4, 5, 6], [7, 8, 9]]"
            ]
          },
          "metadata": {
            "tags": []
          },
          "execution_count": 64
        }
      ]
    },
    {
      "cell_type": "markdown",
      "metadata": {
        "id": "kM7L9spjuO6C"
      },
      "source": [
        "Şimdi 2.listenin ilk elemanına nasıl ulaşacağımıza bakalım."
      ]
    },
    {
      "cell_type": "code",
      "metadata": {
        "colab": {
          "base_uri": "https://localhost:8080/"
        },
        "id": "if_YorrcuVYv",
        "outputId": "fad965cf-82a7-47d6-f4de-6d3e0b59c964"
      },
      "source": [
        "#1.elemanın 0.elemanı.(1.eleman[4,5,6] dır. Bu elemanın 0.elemanı ise 4 tür.)\n",
        "yeniliste[1][0]"
      ],
      "execution_count": 65,
      "outputs": [
        {
          "output_type": "execute_result",
          "data": {
            "text/plain": [
              "4"
            ]
          },
          "metadata": {
            "tags": []
          },
          "execution_count": 65
        }
      ]
    },
    {
      "cell_type": "code",
      "metadata": {
        "colab": {
          "base_uri": "https://localhost:8080/"
        },
        "id": "xbJ79JzGu7pA",
        "outputId": "94e38bc4-68ba-440b-91b7-5ca52be9b543"
      },
      "source": [
        "#bir başka örnek ise\n",
        "liste = [[1,2],[3,4],[8,9]]\n",
        "liste"
      ],
      "execution_count": 66,
      "outputs": [
        {
          "output_type": "execute_result",
          "data": {
            "text/plain": [
              "[[1, 2], [3, 4], [8, 9]]"
            ]
          },
          "metadata": {
            "tags": []
          },
          "execution_count": 66
        }
      ]
    },
    {
      "cell_type": "code",
      "metadata": {
        "colab": {
          "base_uri": "https://localhost:8080/"
        },
        "id": "cJ_0JlE_vDzz",
        "outputId": "8a45d571-3896-4a76-c7f1-b959a7e476c4"
      },
      "source": [
        "liste[2][1]"
      ],
      "execution_count": 69,
      "outputs": [
        {
          "output_type": "execute_result",
          "data": {
            "text/plain": [
              "9"
            ]
          },
          "metadata": {
            "tags": []
          },
          "execution_count": 69
        }
      ]
    }
  ]
}