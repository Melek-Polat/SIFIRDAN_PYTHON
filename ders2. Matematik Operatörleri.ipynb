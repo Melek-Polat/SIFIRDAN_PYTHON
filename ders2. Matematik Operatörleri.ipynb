{
  "nbformat": 4,
  "nbformat_minor": 0,
  "metadata": {
    "colab": {
      "name": "ders2. Matematik Operatörleri.ipynb",
      "provenance": [],
      "authorship_tag": "ABX9TyM9lhPhu/Mun/NMWkjdYZcF",
      "include_colab_link": true
    },
    "kernelspec": {
      "name": "python3",
      "display_name": "Python 3"
    },
    "language_info": {
      "name": "python"
    }
  },
  "cells": [
    {
      "cell_type": "markdown",
      "metadata": {
        "id": "view-in-github",
        "colab_type": "text"
      },
      "source": [
        "<a href=\"https://colab.research.google.com/github/Melek-Polat/SIFIRDAN_PYTHON/blob/main/ders2.%20Matematik%20Operat%C3%B6rleri.ipynb\" target=\"_parent\"><img src=\"https://colab.research.google.com/assets/colab-badge.svg\" alt=\"Open In Colab\"/></a>"
      ]
    },
    {
      "cell_type": "markdown",
      "metadata": {
        "id": "THlPpjLZ-HdP"
      },
      "source": [
        "#Toplama İşlemi (+)"
      ]
    },
    {
      "cell_type": "code",
      "metadata": {
        "id": "0UIbNDzL-NyA"
      },
      "source": [
        "x = 12\n",
        "y = 22\n",
        "z = 32"
      ],
      "execution_count": null,
      "outputs": []
    },
    {
      "cell_type": "code",
      "metadata": {
        "colab": {
          "base_uri": "https://localhost:8080/"
        },
        "id": "SCzt1Cxy-tnB",
        "outputId": "35e2e4a7-9394-4755-803b-e1270c10bb0d"
      },
      "source": [
        "x + y"
      ],
      "execution_count": 2,
      "outputs": [
        {
          "output_type": "execute_result",
          "data": {
            "text/plain": [
              "34"
            ]
          },
          "metadata": {
            "tags": []
          },
          "execution_count": 2
        }
      ]
    },
    {
      "cell_type": "code",
      "metadata": {
        "colab": {
          "base_uri": "https://localhost:8080/"
        },
        "id": "THUmB9Ya_Cgk",
        "outputId": "41aa9e8d-2e4b-4dbd-fc2c-7395c64913c4"
      },
      "source": [
        "y + z"
      ],
      "execution_count": 3,
      "outputs": [
        {
          "output_type": "execute_result",
          "data": {
            "text/plain": [
              "54"
            ]
          },
          "metadata": {
            "tags": []
          },
          "execution_count": 3
        }
      ]
    },
    {
      "cell_type": "code",
      "metadata": {
        "colab": {
          "base_uri": "https://localhost:8080/"
        },
        "id": "k-puYZI6_Ek1",
        "outputId": "ba5dc3ac-1a7a-4eeb-d0a5-e57eb4dd893d"
      },
      "source": [
        "x + y + z"
      ],
      "execution_count": 4,
      "outputs": [
        {
          "output_type": "execute_result",
          "data": {
            "text/plain": [
              "66"
            ]
          },
          "metadata": {
            "tags": []
          },
          "execution_count": 4
        }
      ]
    },
    {
      "cell_type": "markdown",
      "metadata": {
        "id": "NpOtq8Go_PXe"
      },
      "source": [
        "#Çıkarma İşlemi"
      ]
    },
    {
      "cell_type": "code",
      "metadata": {
        "id": "6OKcW3a6_SWm"
      },
      "source": [
        "k = 85\n",
        "l = 42\n",
        "m = 53"
      ],
      "execution_count": 5,
      "outputs": []
    },
    {
      "cell_type": "code",
      "metadata": {
        "colab": {
          "base_uri": "https://localhost:8080/"
        },
        "id": "FLGDaIW__ZCs",
        "outputId": "49fd4365-a694-43fe-c0df-a5b01c6723a7"
      },
      "source": [
        "l - m"
      ],
      "execution_count": 6,
      "outputs": [
        {
          "output_type": "execute_result",
          "data": {
            "text/plain": [
              "-11"
            ]
          },
          "metadata": {
            "tags": []
          },
          "execution_count": 6
        }
      ]
    },
    {
      "cell_type": "code",
      "metadata": {
        "colab": {
          "base_uri": "https://localhost:8080/"
        },
        "id": "-vmJz1dg_a2m",
        "outputId": "5028108d-4ac7-427d-eacd-09bbdd572c00"
      },
      "source": [
        "k - m"
      ],
      "execution_count": 7,
      "outputs": [
        {
          "output_type": "execute_result",
          "data": {
            "text/plain": [
              "32"
            ]
          },
          "metadata": {
            "tags": []
          },
          "execution_count": 7
        }
      ]
    },
    {
      "cell_type": "code",
      "metadata": {
        "colab": {
          "base_uri": "https://localhost:8080/"
        },
        "id": "4yz6cgoJ_d1Y",
        "outputId": "27b2c60c-b66e-4021-f001-309a6ae89396"
      },
      "source": [
        "k - l - m"
      ],
      "execution_count": 8,
      "outputs": [
        {
          "output_type": "execute_result",
          "data": {
            "text/plain": [
              "-10"
            ]
          },
          "metadata": {
            "tags": []
          },
          "execution_count": 8
        }
      ]
    },
    {
      "cell_type": "markdown",
      "metadata": {
        "id": "IY4fXlwH_kZg"
      },
      "source": [
        "#Çarpma"
      ]
    },
    {
      "cell_type": "code",
      "metadata": {
        "id": "BzYiYBlo_myW"
      },
      "source": [
        " a = 56\n",
        " b = 5\n",
        " c = 46"
      ],
      "execution_count": 9,
      "outputs": []
    },
    {
      "cell_type": "code",
      "metadata": {
        "colab": {
          "base_uri": "https://localhost:8080/"
        },
        "id": "vlk4y1R2_vC3",
        "outputId": "5daf38a4-efdc-4600-e073-de0c1e8ecae9"
      },
      "source": [
        "a * b"
      ],
      "execution_count": 10,
      "outputs": [
        {
          "output_type": "execute_result",
          "data": {
            "text/plain": [
              "280"
            ]
          },
          "metadata": {
            "tags": []
          },
          "execution_count": 10
        }
      ]
    },
    {
      "cell_type": "code",
      "metadata": {
        "colab": {
          "base_uri": "https://localhost:8080/"
        },
        "id": "g4E7B-2e_wb3",
        "outputId": "f6f1183e-9ccd-485b-ef78-b58ec284c59f"
      },
      "source": [
        "a * c"
      ],
      "execution_count": 11,
      "outputs": [
        {
          "output_type": "execute_result",
          "data": {
            "text/plain": [
              "2576"
            ]
          },
          "metadata": {
            "tags": []
          },
          "execution_count": 11
        }
      ]
    },
    {
      "cell_type": "code",
      "metadata": {
        "colab": {
          "base_uri": "https://localhost:8080/"
        },
        "id": "l89RZ-_N_zPS",
        "outputId": "1f751fab-4ab5-4f7a-8b12-b44fa96eaa6a"
      },
      "source": [
        "a * b * c"
      ],
      "execution_count": 12,
      "outputs": [
        {
          "output_type": "execute_result",
          "data": {
            "text/plain": [
              "12880"
            ]
          },
          "metadata": {
            "tags": []
          },
          "execution_count": 12
        }
      ]
    },
    {
      "cell_type": "markdown",
      "metadata": {
        "id": "o-9Kq9gb_4cx"
      },
      "source": [
        "#Bölme"
      ]
    },
    {
      "cell_type": "code",
      "metadata": {
        "id": "DQ8qOFy3_7q5"
      },
      "source": [
        "a = 56\n",
        "b = 22\n",
        "c = 7"
      ],
      "execution_count": 13,
      "outputs": []
    },
    {
      "cell_type": "code",
      "metadata": {
        "colab": {
          "base_uri": "https://localhost:8080/"
        },
        "id": "5Qse_SKJADeq",
        "outputId": "c8ed5452-c60a-463b-fc23-5122d03fdd93"
      },
      "source": [
        "a / b"
      ],
      "execution_count": 14,
      "outputs": [
        {
          "output_type": "execute_result",
          "data": {
            "text/plain": [
              "2.5454545454545454"
            ]
          },
          "metadata": {
            "tags": []
          },
          "execution_count": 14
        }
      ]
    },
    {
      "cell_type": "code",
      "metadata": {
        "colab": {
          "base_uri": "https://localhost:8080/"
        },
        "id": "-UCORpNOAFRk",
        "outputId": "2f1e2847-9e4b-424b-8852-8f3fefc2cb4d"
      },
      "source": [
        "b / c\n"
      ],
      "execution_count": 15,
      "outputs": [
        {
          "output_type": "execute_result",
          "data": {
            "text/plain": [
              "3.142857142857143"
            ]
          },
          "metadata": {
            "tags": []
          },
          "execution_count": 15
        }
      ]
    },
    {
      "cell_type": "markdown",
      "metadata": {
        "id": "9ktRT2hgAes3"
      },
      "source": [
        "#Tam Sayı Bölmesi (//)\n",
        " (Bu operatör, bir sayının başka bir sayıya bölümünden ortaya çıkan bölüm sonucunu vermektedir.Örneklerimize bakalım.)"
      ]
    },
    {
      "cell_type": "code",
      "metadata": {
        "colab": {
          "base_uri": "https://localhost:8080/"
        },
        "id": "v_2bSpFMA4t4",
        "outputId": "83383b54-e6c3-403e-85a1-3b4c974f5dda"
      },
      "source": [
        "8 // 2"
      ],
      "execution_count": 17,
      "outputs": [
        {
          "output_type": "execute_result",
          "data": {
            "text/plain": [
              "4"
            ]
          },
          "metadata": {
            "tags": []
          },
          "execution_count": 17
        }
      ]
    },
    {
      "cell_type": "code",
      "metadata": {
        "colab": {
          "base_uri": "https://localhost:8080/"
        },
        "id": "jwIV7JNdA-kA",
        "outputId": "9541562c-2d0d-4a00-fbcb-c24b5e2be16c"
      },
      "source": [
        "16 // 5  #16'nın 5 ile bölümünden kalan bölüm sonucu 3 tür."
      ],
      "execution_count": 19,
      "outputs": [
        {
          "output_type": "execute_result",
          "data": {
            "text/plain": [
              "3"
            ]
          },
          "metadata": {
            "tags": []
          },
          "execution_count": 19
        }
      ]
    },
    {
      "cell_type": "code",
      "metadata": {
        "colab": {
          "base_uri": "https://localhost:8080/"
        },
        "id": "nkvaLSGeBFbA",
        "outputId": "f5661ace-6535-469e-d87a-e9cbe291d0d9"
      },
      "source": [
        "22 // 7"
      ],
      "execution_count": 20,
      "outputs": [
        {
          "output_type": "execute_result",
          "data": {
            "text/plain": [
              "3"
            ]
          },
          "metadata": {
            "tags": []
          },
          "execution_count": 20
        }
      ]
    },
    {
      "cell_type": "code",
      "metadata": {
        "colab": {
          "base_uri": "https://localhost:8080/"
        },
        "id": "Z8Mk9jYxBVKC",
        "outputId": "a113b858-ad18-4863-ab65-8b33c845051d"
      },
      "source": [
        "a = 636  # tam sayı bölmesi sonucunda küsüratları yok eder ve sonuç tam sayı çıkar. \n",
        "b = 45\n",
        "a // b"
      ],
      "execution_count": 21,
      "outputs": [
        {
          "output_type": "execute_result",
          "data": {
            "text/plain": [
              "14"
            ]
          },
          "metadata": {
            "tags": []
          },
          "execution_count": 21
        }
      ]
    },
    {
      "cell_type": "code",
      "metadata": {
        "colab": {
          "base_uri": "https://localhost:8080/"
        },
        "id": "0LthJP_YBjAm",
        "outputId": "bd4f4ae2-6858-4bcc-82f0-8ff4d689d3cf"
      },
      "source": [
        "22.7 // 11.4"
      ],
      "execution_count": 22,
      "outputs": [
        {
          "output_type": "execute_result",
          "data": {
            "text/plain": [
              "1.0"
            ]
          },
          "metadata": {
            "tags": []
          },
          "execution_count": 22
        }
      ]
    },
    {
      "cell_type": "markdown",
      "metadata": {
        "id": "uPNakiyACGZZ"
      },
      "source": [
        "#Kalanı Bulma (%)\n",
        "( Bu operatörde, bir sayının başka bir sayıya bölümünden kalan sonucu bulmamızı sağlar.)"
      ]
    },
    {
      "cell_type": "code",
      "metadata": {
        "colab": {
          "base_uri": "https://localhost:8080/"
        },
        "id": "4c9vcalwCV8Y",
        "outputId": "832d83b4-54f2-47b4-8729-07f9fc6ac631"
      },
      "source": [
        "16 % 8"
      ],
      "execution_count": 23,
      "outputs": [
        {
          "output_type": "execute_result",
          "data": {
            "text/plain": [
              "0"
            ]
          },
          "metadata": {
            "tags": []
          },
          "execution_count": 23
        }
      ]
    },
    {
      "cell_type": "code",
      "metadata": {
        "colab": {
          "base_uri": "https://localhost:8080/"
        },
        "id": "IKkjGO4sCewH",
        "outputId": "e4e602f1-977a-402c-aa04-b82ed0062360"
      },
      "source": [
        "16 % 7"
      ],
      "execution_count": 24,
      "outputs": [
        {
          "output_type": "execute_result",
          "data": {
            "text/plain": [
              "2"
            ]
          },
          "metadata": {
            "tags": []
          },
          "execution_count": 24
        }
      ]
    },
    {
      "cell_type": "code",
      "metadata": {
        "colab": {
          "base_uri": "https://localhost:8080/"
        },
        "id": "iRuIvr1pChcN",
        "outputId": "2eb585e3-6f8f-4090-d055-276fe839dd78"
      },
      "source": [
        "22.7 % 11.4"
      ],
      "execution_count": 25,
      "outputs": [
        {
          "output_type": "execute_result",
          "data": {
            "text/plain": [
              "11.299999999999999"
            ]
          },
          "metadata": {
            "tags": []
          },
          "execution_count": 25
        }
      ]
    },
    {
      "cell_type": "markdown",
      "metadata": {
        "id": "mI6LDXGZC6WJ"
      },
      "source": [
        "#Üs Bulma (**)\n",
        "( Bu operatör bir sayının üssünü bulmamızı sağlar.Örnek olarak operatörün solundaki sayının sağdaki sayıya göre üssünü ekrana basar.)"
      ]
    },
    {
      "cell_type": "code",
      "metadata": {
        "colab": {
          "base_uri": "https://localhost:8080/"
        },
        "id": "uAYCn7LRDBo_",
        "outputId": "e86e428b-b7a7-419c-a094-ab46d34dd353"
      },
      "source": [
        "5 ** 5"
      ],
      "execution_count": 26,
      "outputs": [
        {
          "output_type": "execute_result",
          "data": {
            "text/plain": [
              "3125"
            ]
          },
          "metadata": {
            "tags": []
          },
          "execution_count": 26
        }
      ]
    },
    {
      "cell_type": "code",
      "metadata": {
        "colab": {
          "base_uri": "https://localhost:8080/"
        },
        "id": "UEKcUmlxDgPt",
        "outputId": "bc4defc1-cd64-436f-a1b4-9be1a90ebc2a"
      },
      "source": [
        "2 ** 6"
      ],
      "execution_count": 27,
      "outputs": [
        {
          "output_type": "execute_result",
          "data": {
            "text/plain": [
              "64"
            ]
          },
          "metadata": {
            "tags": []
          },
          "execution_count": 27
        }
      ]
    },
    {
      "cell_type": "code",
      "metadata": {
        "colab": {
          "base_uri": "https://localhost:8080/"
        },
        "id": "yZEEkrH-Di5I",
        "outputId": "6960e86b-609e-441c-86a8-ee1e567ebe85"
      },
      "source": [
        "64 ** 0.5  #64 sayısının karekökü demektir aynı zamanda."
      ],
      "execution_count": 29,
      "outputs": [
        {
          "output_type": "execute_result",
          "data": {
            "text/plain": [
              "8.0"
            ]
          },
          "metadata": {
            "tags": []
          },
          "execution_count": 29
        }
      ]
    },
    {
      "cell_type": "code",
      "metadata": {
        "colab": {
          "base_uri": "https://localhost:8080/"
        },
        "id": "gSNYzC5pD38Y",
        "outputId": "aef77924-ad8c-41b8-9e8c-a8259d7b6bc7"
      },
      "source": [
        "12121 ** 0.5"
      ],
      "execution_count": 30,
      "outputs": [
        {
          "output_type": "execute_result",
          "data": {
            "text/plain": [
              "110.09541316512691"
            ]
          },
          "metadata": {
            "tags": []
          },
          "execution_count": 30
        }
      ]
    },
    {
      "cell_type": "code",
      "metadata": {
        "colab": {
          "base_uri": "https://localhost:8080/"
        },
        "id": "wmjrtWxaELI4",
        "outputId": "14b7af45-907c-40c4-e73f-70ed41e31220"
      },
      "source": [
        "8 ** (1/3)  #8 sayısının küp kökü demektir aynı zamanda."
      ],
      "execution_count": 34,
      "outputs": [
        {
          "output_type": "execute_result",
          "data": {
            "text/plain": [
              "2.0"
            ]
          },
          "metadata": {
            "tags": []
          },
          "execution_count": 34
        }
      ]
    },
    {
      "cell_type": "markdown",
      "metadata": {
        "id": "MX9IQBVwEu17"
      },
      "source": [
        "#İşaret Değiştirme\n",
        "( Programlarımızda bazen bir sayının işaretini değiştirmek isteyebiliriz.Bunun içinde bu operatör işimize yarayabilir.)"
      ]
    },
    {
      "cell_type": "code",
      "metadata": {
        "colab": {
          "base_uri": "https://localhost:8080/"
        },
        "id": "o7ESTamsFJzs",
        "outputId": "f2198398-d1bb-40f2-e2db-845a89fa059c"
      },
      "source": [
        "a = -8\n",
        "-a"
      ],
      "execution_count": 35,
      "outputs": [
        {
          "output_type": "execute_result",
          "data": {
            "text/plain": [
              "8"
            ]
          },
          "metadata": {
            "tags": []
          },
          "execution_count": 35
        }
      ]
    },
    {
      "cell_type": "code",
      "metadata": {
        "colab": {
          "base_uri": "https://localhost:8080/"
        },
        "id": "gEZb8g4SFO-4",
        "outputId": "27192cc8-f8ba-46e5-d3ef-979fd348be49"
      },
      "source": [
        "b = 8\n",
        "-b"
      ],
      "execution_count": 36,
      "outputs": [
        {
          "output_type": "execute_result",
          "data": {
            "text/plain": [
              "-8"
            ]
          },
          "metadata": {
            "tags": []
          },
          "execution_count": 36
        }
      ]
    },
    {
      "cell_type": "code",
      "metadata": {
        "colab": {
          "base_uri": "https://localhost:8080/"
        },
        "id": "yxsDhLlcFW12",
        "outputId": "87dbe410-bcaa-4f91-cca6-b34211454601"
      },
      "source": [
        "a = 4\n",
        "+a"
      ],
      "execution_count": 37,
      "outputs": [
        {
          "output_type": "execute_result",
          "data": {
            "text/plain": [
              "4"
            ]
          },
          "metadata": {
            "tags": []
          },
          "execution_count": 37
        }
      ]
    },
    {
      "cell_type": "markdown",
      "metadata": {
        "id": "52ryKn5tFujO"
      },
      "source": [
        "#Operatörleri Beraber Kullanma ve İşlem Sırası\n",
        "\n",
        "Pythondaki işlem sırası matematikteki birebir aynıdır.İşlem önceliğine göre yapılır.\n",
        "\n",
        "1. Parantez içi her zaman önce yapılır.\n",
        "2. Çarpma ve bölme her zaman toplama ve çıkarma işlemlerine göre önce yapılır.\n",
        "3. İşlemler soldan sağa değerlendirilir."
      ]
    },
    {
      "cell_type": "code",
      "metadata": {
        "colab": {
          "base_uri": "https://localhost:8080/"
        },
        "id": "HvUQlimjGfUi",
        "outputId": "971337f8-ff7b-4349-a5c1-701eeaa9e38e"
      },
      "source": [
        "8 + 4 * 3 / 2 - 18"
      ],
      "execution_count": 38,
      "outputs": [
        {
          "output_type": "execute_result",
          "data": {
            "text/plain": [
              "-4.0"
            ]
          },
          "metadata": {
            "tags": []
          },
          "execution_count": 38
        }
      ]
    },
    {
      "cell_type": "code",
      "metadata": {
        "colab": {
          "base_uri": "https://localhost:8080/"
        },
        "id": "O4vFIravGmZf",
        "outputId": "c0fad3a3-0b60-42a8-a886-bc6d4166d037"
      },
      "source": [
        "# kafamız karışıyorsa parantez içine alalım\n",
        "8 + (( 4 * 3 )/2) - 18"
      ],
      "execution_count": 39,
      "outputs": [
        {
          "output_type": "execute_result",
          "data": {
            "text/plain": [
              "-4.0"
            ]
          },
          "metadata": {
            "tags": []
          },
          "execution_count": 39
        }
      ]
    }
  ]
}