{
  "nbformat": 4,
  "nbformat_minor": 0,
  "metadata": {
    "colab": {
      "name": "ders5.Print fonksiyonu ve formatlama.ipynb",
      "provenance": [],
      "authorship_tag": "ABX9TyMGwo+5VhQ1VjABXfiJPTlM",
      "include_colab_link": true
    },
    "kernelspec": {
      "name": "python3",
      "display_name": "Python 3"
    },
    "language_info": {
      "name": "python"
    }
  },
  "cells": [
    {
      "cell_type": "markdown",
      "metadata": {
        "id": "view-in-github",
        "colab_type": "text"
      },
      "source": [
        "<a href=\"https://colab.research.google.com/github/Melek-Polat/SIFIRDAN_PYTHON/blob/main/ders5.Print_fonksiyonu_ve_formatlama.ipynb\" target=\"_parent\"><img src=\"https://colab.research.google.com/assets/colab-badge.svg\" alt=\"Open In Colab\"/></a>"
      ]
    },
    {
      "cell_type": "markdown",
      "metadata": {
        "id": "k_t2VHdGKsfm"
      },
      "source": [
        "#Print Fonksiyonu ve formatlama\n",
        "Bu bölümde ekrana veri tiplerini yazdırmak için kullandığımız print() fonksiyonunu ve formatlama yöntemini öğreneceğiz.\n",
        "\n",
        "##Print Fonksiyonu\n",
        "Kodlarımızı dosyalara yazdırdığımızda, eğer ekrana bir değer bastırmak istersek print() fonksiyonunu kullanırız.Kullanımı oldukça basittir ve değişik özelliklere sahiptir."
      ]
    },
    {
      "cell_type": "code",
      "metadata": {
        "colab": {
          "base_uri": "https://localhost:8080/"
        },
        "id": "51ufS7dELb32",
        "outputId": "ca85196c-0498-45fd-8ab1-7bad4a07ff0d"
      },
      "source": [
        "print(50)"
      ],
      "execution_count": 1,
      "outputs": [
        {
          "output_type": "stream",
          "text": [
            "50\n"
          ],
          "name": "stdout"
        }
      ]
    },
    {
      "cell_type": "code",
      "metadata": {
        "colab": {
          "base_uri": "https://localhost:8080/"
        },
        "id": "9AbvAMonL6Xu",
        "outputId": "7b0f203a-676b-47aa-93ad-21613cfdd3c0"
      },
      "source": [
        "print(3.14)"
      ],
      "execution_count": 3,
      "outputs": [
        {
          "output_type": "stream",
          "text": [
            "3.14\n"
          ],
          "name": "stdout"
        }
      ]
    },
    {
      "cell_type": "code",
      "metadata": {
        "colab": {
          "base_uri": "https://localhost:8080/"
        },
        "id": "TOm_1caULv2y",
        "outputId": "b274a8dc-0a2a-4edb-d55e-20402e3be560"
      },
      "source": [
        "print(50+98)"
      ],
      "execution_count": 2,
      "outputs": [
        {
          "output_type": "stream",
          "text": [
            "148\n"
          ],
          "name": "stdout"
        }
      ]
    },
    {
      "cell_type": "code",
      "metadata": {
        "colab": {
          "base_uri": "https://localhost:8080/"
        },
        "id": "3uSOhRFkMAi-",
        "outputId": "d04d3687-ad52-4fae-941e-ecaec50a483b"
      },
      "source": [
        "print(\"melek\")  #print fonksiyonu içine çift tırnak içinde yazılan isim çıkışta tırnaksız olarak yazılır.Bu print fonksiyonunun en temel özelliğidir.Print içinde olmadan sadece çift tırnak içine yazılan kodlar çıkışta tek tırnak ile çıkar.Bu özelliği unutmayalım!!!"
      ],
      "execution_count": 6,
      "outputs": [
        {
          "output_type": "stream",
          "text": [
            "melek\n"
          ],
          "name": "stdout"
        }
      ]
    },
    {
      "cell_type": "code",
      "metadata": {
        "colab": {
          "base_uri": "https://localhost:8080/",
          "height": 35
        },
        "id": "Kw10iH3eNHEb",
        "outputId": "2e2543c8-b85c-47de-bb24-a6172a035782"
      },
      "source": [
        "\"melek\"  #Gördüğümüz üzere çift tırnak ile yazıldı fakat ekrana tek tırnak ile basıldı."
      ],
      "execution_count": 7,
      "outputs": [
        {
          "output_type": "execute_result",
          "data": {
            "application/vnd.google.colaboratory.intrinsic+json": {
              "type": "string"
            },
            "text/plain": [
              "'melek'"
            ]
          },
          "metadata": {
            "tags": []
          },
          "execution_count": 7
        }
      ]
    },
    {
      "cell_type": "code",
      "metadata": {
        "colab": {
          "base_uri": "https://localhost:8080/"
        },
        "id": "ONCY8rQXL3dq",
        "outputId": "21eb278b-0de5-4838-c20d-c9b4488161b6"
      },
      "source": [
        "a = 56\n",
        "b = 30\n",
        "print(a+b)\n"
      ],
      "execution_count": 5,
      "outputs": [
        {
          "output_type": "stream",
          "text": [
            "86\n"
          ],
          "name": "stdout"
        }
      ]
    },
    {
      "cell_type": "markdown",
      "metadata": {
        "id": "Ae_8BF77OIUU"
      },
      "source": [
        "Buradaki işlemlerde gördüğümüz gibi biz print fonksiyonunun içine bastırmak istediğimiz değeri veriyoruz ve bu fonksiyon da ekrana değerimizi bastırıyor.Peki aynı satırda bir kaç değer bastırmak istersek ne yapıyoruz?Bunun için değerlerimizin arasına (,) karakterini atıyoruz.Bu şekilde bir kaç değeri aynı satırda bastırabiliriz."
      ]
    },
    {
      "cell_type": "code",
      "metadata": {
        "colab": {
          "base_uri": "https://localhost:8080/"
        },
        "id": "nvLWsSxBPN1w",
        "outputId": "f55e6eda-0630-4852-f244-fddcbbfecd44"
      },
      "source": [
        "print(\"melek\",\"Python\",3.1548655,\"merhaba\")"
      ],
      "execution_count": 9,
      "outputs": [
        {
          "output_type": "stream",
          "text": [
            "melek Python 3.1548655 merhaba\n"
          ],
          "name": "stdout"
        }
      ]
    },
    {
      "cell_type": "code",
      "metadata": {
        "colab": {
          "base_uri": "https://localhost:8080/"
        },
        "id": "1AlGif1FPKXq",
        "outputId": "818365df-74fe-4c87-8884-fd00ebbb4abb"
      },
      "source": [
        "print(\"melek\",\"polat\")"
      ],
      "execution_count": 10,
      "outputs": [
        {
          "output_type": "stream",
          "text": [
            "melek polat\n"
          ],
          "name": "stdout"
        }
      ]
    },
    {
      "cell_type": "markdown",
      "metadata": {
        "id": "LRaKafn6QMZL"
      },
      "source": [
        "#Stringlerdeki Özel Karakterler\n",
        "Pythonda stringlerde kullanılan özel karakterler mevcuttur ve kullanıldıkları yerlerde işlemlerimizi kolaylaştırır.En çok kullanılan 2 tanesi şunlardır.\n",
        "\n",
        "#\\n karakteri\n",
        "Eğer print()fonksiyonu stringlerde böyle bir karakterle karşılaşırsa alt satırdan ekrana yazdırma işlemine devam eder.\n",
        "\n",
        "#\\t karakteri\n",
        "Eğer print()fonksiyonu stringlerde böyle bir karakterle karşılaşırsa bir tab boşluk bırakarak ekrana yazdırma işlemine devam eder.\n"
      ]
    },
    {
      "cell_type": "code",
      "metadata": {
        "colab": {
          "base_uri": "https://localhost:8080/"
        },
        "id": "dSChjXphSAJr",
        "outputId": "576c0bf1-b6c3-473e-8157-2099cfe26147"
      },
      "source": [
        "print(\"merhaba\\nnasılsın\\niyi misin\")"
      ],
      "execution_count": 13,
      "outputs": [
        {
          "output_type": "stream",
          "text": [
            "merhaba\n",
            "nasılsın\n",
            "iyi misin\n"
          ],
          "name": "stdout"
        }
      ]
    },
    {
      "cell_type": "code",
      "metadata": {
        "colab": {
          "base_uri": "https://localhost:8080/"
        },
        "id": "uj51pu4pSRgn",
        "outputId": "1f14ddbc-5a10-4a45-828a-5da2ed5b7e62"
      },
      "source": [
        "print(\"selam\\ngençler\")"
      ],
      "execution_count": 16,
      "outputs": [
        {
          "output_type": "stream",
          "text": [
            "selam\n",
            "gençler\n"
          ],
          "name": "stdout"
        }
      ]
    },
    {
      "cell_type": "code",
      "metadata": {
        "colab": {
          "base_uri": "https://localhost:8080/"
        },
        "id": "m2DdGdGITwQ7",
        "outputId": "6239a257-2c6e-4112-c2aa-aee544bedcc5"
      },
      "source": [
        "print(\"ocak\\tşubat\\tmart\")  "
      ],
      "execution_count": 17,
      "outputs": [
        {
          "output_type": "stream",
          "text": [
            "ocak\tşubat\tmart\n"
          ],
          "name": "stdout"
        }
      ]
    },
    {
      "cell_type": "code",
      "metadata": {
        "colab": {
          "base_uri": "https://localhost:8080/"
        },
        "id": "1TNtJUiTT5p5",
        "outputId": "e1f9364f-f164-4b9c-f98c-cac67c642418"
      },
      "source": [
        "print(\"a\\t\\t\\tb\")   #ne kadar \\t koyarsak o kadar boşluk koymuşuz demektir."
      ],
      "execution_count": 20,
      "outputs": [
        {
          "output_type": "stream",
          "text": [
            "a\t\t\tb\n"
          ],
          "name": "stdout"
        }
      ]
    },
    {
      "cell_type": "markdown",
      "metadata": {
        "id": "B6KiQ7sqVHTZ"
      },
      "source": [
        "#type() fonksiyonu\n",
        "print() fonksiyonundan bahsetmişken type() fonksiyonunu öğrenmekte fayda var.type()fonksiyonu içine gönderilen değerin hangi veri tipinden olduğunu söyler."
      ]
    },
    {
      "cell_type": "code",
      "metadata": {
        "colab": {
          "base_uri": "https://localhost:8080/"
        },
        "id": "TbDYD4l8VgdT",
        "outputId": "e1ebe778-b26e-42f5-dcdf-ec1dc0fed897"
      },
      "source": [
        "#Integer(Tam Sayı) Türü\n",
        "type(40) #Bu değerin bir tam sayı olduğunu gösterdi\n"
      ],
      "execution_count": 21,
      "outputs": [
        {
          "output_type": "execute_result",
          "data": {
            "text/plain": [
              "int"
            ]
          },
          "metadata": {
            "tags": []
          },
          "execution_count": 21
        }
      ]
    },
    {
      "cell_type": "code",
      "metadata": {
        "colab": {
          "base_uri": "https://localhost:8080/"
        },
        "id": "NfdTDXWtbiNe",
        "outputId": "368f90e9-85b7-4d34-dab9-3d3b25842f97"
      },
      "source": [
        "a = 65\n",
        "print(type(a)) #Bu değerin bir tam sayı sınıfında olduğunu gösterdi"
      ],
      "execution_count": 26,
      "outputs": [
        {
          "output_type": "stream",
          "text": [
            "<class 'int'>\n"
          ],
          "name": "stdout"
        }
      ]
    },
    {
      "cell_type": "code",
      "metadata": {
        "colab": {
          "base_uri": "https://localhost:8080/"
        },
        "id": "s1-qTUITaVLd",
        "outputId": "657a42c3-85e4-4212-a0b1-4aa5ec7a5df1"
      },
      "source": [
        "#Float(Ondalıklı Sayı) Türü\n",
        "type(3.14)  #Bu değerin bir ondalıklı sayı olduğunu gösterdi"
      ],
      "execution_count": 22,
      "outputs": [
        {
          "output_type": "execute_result",
          "data": {
            "text/plain": [
              "float"
            ]
          },
          "metadata": {
            "tags": []
          },
          "execution_count": 22
        }
      ]
    },
    {
      "cell_type": "code",
      "metadata": {
        "colab": {
          "base_uri": "https://localhost:8080/"
        },
        "id": "_a0mk2rAag8B",
        "outputId": "9dd70c01-f4df-453e-b06d-486e86002b6b"
      },
      "source": [
        "#String(Karakter Dizisi) Türü\n",
        "a = \"melek\"\n",
        "print(type(a)) "
      ],
      "execution_count": 24,
      "outputs": [
        {
          "output_type": "stream",
          "text": [
            "<class 'str'>\n"
          ],
          "name": "stdout"
        }
      ]
    },
    {
      "cell_type": "markdown",
      "metadata": {
        "id": "KNOnMieabz-G"
      },
      "source": [
        "#Print Fonksiyonunun Özellikleri\n",
        "Ekrana yazdırma işlemlerimiz sırasında print() fonksiyonunun faydalı özelliklerini kullanırsak yazdığımız kodu daha verimli kılabiliriz.Bunun için burada 2 tane özellikten bahsedeceğiz.\n",
        "\n",
        "##Sep Parametresi\n",
        "print()fonksiyonunda kullanılabilen ses parametresi yazdığımız değerlerin arasına istediğimiz karakterlerin yerleştirilmesini sağlar.Eğer bu parametreyi kullanmazsak değerlerin arasına varsayılan olarak boşluk yerleştirildiğini biliyoruz."
      ]
    },
    {
      "cell_type": "code",
      "metadata": {
        "colab": {
          "base_uri": "https://localhost:8080/"
        },
        "id": "IrMGScqIc5mg",
        "outputId": "3bc2434d-3144-4177-ffa3-5942057ea360"
      },
      "source": [
        "print(45,58,65,75,sep = \"/\")"
      ],
      "execution_count": 27,
      "outputs": [
        {
          "output_type": "stream",
          "text": [
            "45/58/65/75\n"
          ],
          "name": "stdout"
        }
      ]
    },
    {
      "cell_type": "code",
      "metadata": {
        "colab": {
          "base_uri": "https://localhost:8080/"
        },
        "id": "HPJYjwOLcyfD",
        "outputId": "edb7ccca-f8d0-47f3-a164-d075befa0c4c"
      },
      "source": [
        "print(\"Melek\",\"Polat\",\"Kayseri\",sep = \"\\n\")"
      ],
      "execution_count": 29,
      "outputs": [
        {
          "output_type": "stream",
          "text": [
            "Melek\n",
            "Polat\n",
            "Kayseri\n"
          ],
          "name": "stdout"
        }
      ]
    },
    {
      "cell_type": "code",
      "metadata": {
        "colab": {
          "base_uri": "https://localhost:8080/"
        },
        "id": "gUdeO72edprR",
        "outputId": "a6b25536-337e-40e4-d618-4615273bb5c2"
      },
      "source": [
        "print(\"07\",\"12\",\"1998\",sep = \"/\")"
      ],
      "execution_count": 34,
      "outputs": [
        {
          "output_type": "stream",
          "text": [
            "07/12/1998\n"
          ],
          "name": "stdout"
        }
      ]
    },
    {
      "cell_type": "markdown",
      "metadata": {
        "id": "NPLJdelUewQu"
      },
      "source": [
        "###Yıldızlı Parametreler\n",
        "Eğer bir stringin başına * işareti koyup, print fonksiyonuna gönderirsek bu string karakterlerine ayrılacak ve her bir karakter ayrı birer string olarak davranılarak ekrana basılacaktır."
      ]
    },
    {
      "cell_type": "code",
      "metadata": {
        "colab": {
          "base_uri": "https://localhost:8080/"
        },
        "id": "uCOk68aZfOFc",
        "outputId": "b7f9b188-c684-4dff-c7a6-ff0dee9a05fa"
      },
      "source": [
        "#Varsayılan olarak karakterleri arasına boşluk konuluyor\n",
        "print(*\"python\")"
      ],
      "execution_count": 35,
      "outputs": [
        {
          "output_type": "stream",
          "text": [
            "p y t h o n\n"
          ],
          "name": "stdout"
        }
      ]
    },
    {
      "cell_type": "code",
      "metadata": {
        "colab": {
          "base_uri": "https://localhost:8080/"
        },
        "id": "iphun-LDf1pR",
        "outputId": "df92f246-efad-435a-a6d3-76602c842bd1"
      },
      "source": [
        "print(*\"python\",sep = \"/\")"
      ],
      "execution_count": 37,
      "outputs": [
        {
          "output_type": "stream",
          "text": [
            "p/y/t/h/o/n\n"
          ],
          "name": "stdout"
        }
      ]
    },
    {
      "cell_type": "code",
      "metadata": {
        "colab": {
          "base_uri": "https://localhost:8080/"
        },
        "id": "ykt_hIBqfKSY",
        "outputId": "010c159b-4b3b-4c02-82b6-586f1677e2aa"
      },
      "source": [
        "print(*\"python\",sep = \"\\n\")"
      ],
      "execution_count": 36,
      "outputs": [
        {
          "output_type": "stream",
          "text": [
            "p\n",
            "y\n",
            "t\n",
            "h\n",
            "o\n",
            "n\n"
          ],
          "name": "stdout"
        }
      ]
    },
    {
      "cell_type": "code",
      "metadata": {
        "colab": {
          "base_uri": "https://localhost:8080/"
        },
        "id": "7ZcZuz2Lfk21",
        "outputId": "5950da2f-2ba6-4ca9-f639-851ab6a048e6"
      },
      "source": [
        "print(\"T\",\"B\",\"M\",\"M\",sep = \".\")"
      ],
      "execution_count": 38,
      "outputs": [
        {
          "output_type": "stream",
          "text": [
            "T.B.M.M\n"
          ],
          "name": "stdout"
        }
      ]
    },
    {
      "cell_type": "code",
      "metadata": {
        "colab": {
          "base_uri": "https://localhost:8080/"
        },
        "id": "ay4DhVu1gMNn",
        "outputId": "aac238bf-88de-4ddd-a790-476805e040c6"
      },
      "source": [
        "print(*\"TBMM\",sep = \".\")"
      ],
      "execution_count": 42,
      "outputs": [
        {
          "output_type": "stream",
          "text": [
            "T.B.M.M\n"
          ],
          "name": "stdout"
        }
      ]
    },
    {
      "cell_type": "markdown",
      "metadata": {
        "id": "BsnQQD0Egm69"
      },
      "source": [
        "#Formatlama\n",
        "Programlama yaparken bazı yerlerde bir stringin içinde daha önceden tanımlı string,float,int vs değerleri yerleştirmek isteyebiliriz.Böyle durumlar için Pythonda format()fonksiyonunu kullanabiliriz.format()fonksiyonunun çok fazla özelliği olduğu için,ben burada sadece en çok kullandığımız özelliğini göstereceğim."
      ]
    },
    {
      "cell_type": "code",
      "metadata": {
        "colab": {
          "base_uri": "https://localhost:8080/",
          "height": 35
        },
        "id": "K3CTCXfGheeO",
        "outputId": "fe2f2730-20b6-4b2c-e339-c3a4dee5cae8"
      },
      "source": [
        "#Burada 3 tane süslü parantezimiz({})var ve bunların yerine sırasıyla format fonksiyonun içindeki değerler geçiyor.\n",
        "\"{} {} {}\".format(3.1456,8.458,7.985)"
      ],
      "execution_count": 43,
      "outputs": [
        {
          "output_type": "execute_result",
          "data": {
            "application/vnd.google.colaboratory.intrinsic+json": {
              "type": "string"
            },
            "text/plain": [
              "'3.1456 8.458 7.985'"
            ]
          },
          "metadata": {
            "tags": []
          },
          "execution_count": 43
        }
      ]
    },
    {
      "cell_type": "code",
      "metadata": {
        "colab": {
          "base_uri": "https://localhost:8080/"
        },
        "id": "PuDgcdZ8iF-C",
        "outputId": "75dce121-df88-400e-b3ae-f873ea6f97ed"
      },
      "source": [
        "a = 5\n",
        "b = 6\n",
        "print(\"{} + {} 'nin toplamı {} ' dır\".format(a,b,a+b))"
      ],
      "execution_count": 44,
      "outputs": [
        {
          "output_type": "stream",
          "text": [
            "5 + 6 'nin toplamı 11 ' dır\n"
          ],
          "name": "stdout"
        }
      ]
    },
    {
      "cell_type": "code",
      "metadata": {
        "colab": {
          "base_uri": "https://localhost:8080/",
          "height": 35
        },
        "id": "XQGYJDmgiqbs",
        "outputId": "adc70ce5-cdd5-4bcf-a685-3291a9c163ec"
      },
      "source": [
        "#Süslü parantezlerin içindeki sayılar format fonksiyonun içindeki hangi sıradaki değerin geleceğini söylüyor.\n",
        "\"{1} {0} {2}\".format(43,\"melek\",54) #0.indekse melek,1.indekse 43,2.indekse 54 yazacağını söylüyor ve yazdırıyor."
      ],
      "execution_count": 47,
      "outputs": [
        {
          "output_type": "execute_result",
          "data": {
            "application/vnd.google.colaboratory.intrinsic+json": {
              "type": "string"
            },
            "text/plain": [
              "'melek 43 54'"
            ]
          },
          "metadata": {
            "tags": []
          },
          "execution_count": 47
        }
      ]
    },
    {
      "cell_type": "code",
      "metadata": {
        "colab": {
          "base_uri": "https://localhost:8080/",
          "height": 35
        },
        "id": "1Ue3hgfijMhD",
        "outputId": "833454aa-faa1-46e1-9f11-83acd3f2ed7b"
      },
      "source": [
        "#Süslü parantezlerin içindeki kullanım ondalıklı kısmın sadece 2 basamağına kadar almak istediğimizi söylüyor.\n",
        "\"{:.2f} {:.2f} {:.3f}\".format(3.1458,5.658,7.65465) #2f demek virgülden sonra 2 basamak alın demektir.3f de virgülden sonra 3 basamak alın demek."
      ],
      "execution_count": 51,
      "outputs": [
        {
          "output_type": "execute_result",
          "data": {
            "application/vnd.google.colaboratory.intrinsic+json": {
              "type": "string"
            },
            "text/plain": [
              "'3.15 5.66 7.655'"
            ]
          },
          "metadata": {
            "tags": []
          },
          "execution_count": 51
        }
      ]
    },
    {
      "cell_type": "markdown",
      "metadata": {
        "id": "TUv49uAJl0Rr"
      },
      "source": [
        "Format fonksiyonu ile ilgili kullanımları ihtiyacınız olduğu zaman şu web sitesinden yararlanarak uygulayabilirsiniz; https://pyformat.info/\n"
      ]
    }
  ]
}