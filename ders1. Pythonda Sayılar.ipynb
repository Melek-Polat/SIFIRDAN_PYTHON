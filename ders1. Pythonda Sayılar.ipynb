{
  "nbformat": 4,
  "nbformat_minor": 0,
  "metadata": {
    "colab": {
      "name": "Untitled46.ipynb",
      "provenance": [],
      "authorship_tag": "ABX9TyM/YrV55qjYWHvJQkptBHIw",
      "include_colab_link": true
    },
    "kernelspec": {
      "name": "python3",
      "display_name": "Python 3"
    },
    "language_info": {
      "name": "python"
    }
  },
  "cells": [
    {
      "cell_type": "markdown",
      "metadata": {
        "id": "view-in-github",
        "colab_type": "text"
      },
      "source": [
        "<a href=\"https://colab.research.google.com/github/Melek-Polat/SIFIRDAN_PYTHON/blob/main/ders1.%20Pythonda%20Say%C4%B1lar.ipynb\" target=\"_parent\"><img src=\"https://colab.research.google.com/assets/colab-badge.svg\" alt=\"Open In Colab\"/></a>"
      ]
    },
    {
      "cell_type": "markdown",
      "metadata": {
        "id": "SwpMdY6FqzmJ"
      },
      "source": [
        "Pythonda temeli sağlam atmamız için ilk önce veri tipleri ve veri yapılarını öğrenmeliyiz.Maratona sayıları öğrenerek başlayalım.\n",
        "\n",
        "1. Tam sayı(Integer) ve Ondalıklı(Float) veri tipleri\n",
        "2. Basit matematik işlemleri \n",
        "3. Değişken tanımlama\n",
        "\n",
        "\n",
        "   Pythondaki tam sayılar ve ondalıklı sayılar matematikteki tam sayılar ve ondalıklı sayılar ile birebir aynıdır."
      ]
    },
    {
      "cell_type": "code",
      "metadata": {
        "colab": {
          "base_uri": "https://localhost:8080/"
        },
        "id": "pkGhKpcMq0hr",
        "outputId": "9da0f446-430b-4fdc-8e3d-9c67dec8aaf6"
      },
      "source": [
        "7+3"
      ],
      "execution_count": 1,
      "outputs": [
        {
          "output_type": "execute_result",
          "data": {
            "text/plain": [
              "10"
            ]
          },
          "metadata": {
            "tags": []
          },
          "execution_count": 1
        }
      ]
    },
    {
      "cell_type": "code",
      "metadata": {
        "colab": {
          "base_uri": "https://localhost:8080/"
        },
        "id": "1mpjG4l3q7qB",
        "outputId": "c6c21d3b-7b59-445a-9b22-c61e065f6607"
      },
      "source": [
        "3 - 4"
      ],
      "execution_count": 2,
      "outputs": [
        {
          "output_type": "execute_result",
          "data": {
            "text/plain": [
              "-1"
            ]
          },
          "metadata": {
            "tags": []
          },
          "execution_count": 2
        }
      ]
    },
    {
      "cell_type": "code",
      "metadata": {
        "colab": {
          "base_uri": "https://localhost:8080/"
        },
        "id": "hZwVG8u9q-oJ",
        "outputId": "2b499f78-b087-4fc1-f8f9-42d0e7e04d21"
      },
      "source": [
        "8 * 16"
      ],
      "execution_count": 3,
      "outputs": [
        {
          "output_type": "execute_result",
          "data": {
            "text/plain": [
              "128"
            ]
          },
          "metadata": {
            "tags": []
          },
          "execution_count": 3
        }
      ]
    },
    {
      "cell_type": "code",
      "metadata": {
        "colab": {
          "base_uri": "https://localhost:8080/"
        },
        "id": "TmG0095UrCpL",
        "outputId": "f3623034-1a32-4949-8dd8-e2b132bb2256"
      },
      "source": [
        "56 / 7"
      ],
      "execution_count": 4,
      "outputs": [
        {
          "output_type": "execute_result",
          "data": {
            "text/plain": [
              "8.0"
            ]
          },
          "metadata": {
            "tags": []
          },
          "execution_count": 4
        }
      ]
    },
    {
      "cell_type": "code",
      "metadata": {
        "colab": {
          "base_uri": "https://localhost:8080/"
        },
        "id": "GVhR5fKrrHej",
        "outputId": "16b9e3c8-d454-40ee-ce93-0ae342a70bca"
      },
      "source": [
        "2.5 + 4.2"
      ],
      "execution_count": 5,
      "outputs": [
        {
          "output_type": "execute_result",
          "data": {
            "text/plain": [
              "6.7"
            ]
          },
          "metadata": {
            "tags": []
          },
          "execution_count": 5
        }
      ]
    },
    {
      "cell_type": "code",
      "metadata": {
        "colab": {
          "base_uri": "https://localhost:8080/"
        },
        "id": "otKt7xWyrM9l",
        "outputId": "ea143694-0639-4f4c-9d5c-573392087bd1"
      },
      "source": [
        "8.3 - 5.6"
      ],
      "execution_count": 6,
      "outputs": [
        {
          "output_type": "execute_result",
          "data": {
            "text/plain": [
              "2.700000000000001"
            ]
          },
          "metadata": {
            "tags": []
          },
          "execution_count": 6
        }
      ]
    },
    {
      "cell_type": "code",
      "metadata": {
        "colab": {
          "base_uri": "https://localhost:8080/"
        },
        "id": "JsNqbrDurQHX",
        "outputId": "38c4dbc2-02c0-410b-8cee-cb312b7446b3"
      },
      "source": [
        "2.4 * 4.2"
      ],
      "execution_count": 7,
      "outputs": [
        {
          "output_type": "execute_result",
          "data": {
            "text/plain": [
              "10.08"
            ]
          },
          "metadata": {
            "tags": []
          },
          "execution_count": 7
        }
      ]
    },
    {
      "cell_type": "code",
      "metadata": {
        "colab": {
          "base_uri": "https://localhost:8080/"
        },
        "id": "C5Bdrzt-rRe7",
        "outputId": "3bdf5f87-2a9d-409a-c8bc-a60fce6b4628"
      },
      "source": [
        "8.5 / 5.6"
      ],
      "execution_count": 8,
      "outputs": [
        {
          "output_type": "execute_result",
          "data": {
            "text/plain": [
              "1.517857142857143"
            ]
          },
          "metadata": {
            "tags": []
          },
          "execution_count": 8
        }
      ]
    },
    {
      "cell_type": "code",
      "metadata": {
        "colab": {
          "base_uri": "https://localhost:8080/"
        },
        "id": "UJmO9gnxrV9B",
        "outputId": "3997d9e0-12b6-44b3-8d5c-e20dec89b08d"
      },
      "source": [
        "2 + 4 + 8 - 3 - 4"
      ],
      "execution_count": 9,
      "outputs": [
        {
          "output_type": "execute_result",
          "data": {
            "text/plain": [
              "7"
            ]
          },
          "metadata": {
            "tags": []
          },
          "execution_count": 9
        }
      ]
    },
    {
      "cell_type": "markdown",
      "metadata": {
        "id": "OmxGgXI0xfeE"
      },
      "source": [
        "değişken tanımlama"
      ]
    },
    {
      "cell_type": "code",
      "metadata": {
        "id": "eySx_s88reyB"
      },
      "source": [
        "melek = 13"
      ],
      "execution_count": 10,
      "outputs": []
    },
    {
      "cell_type": "code",
      "metadata": {
        "colab": {
          "base_uri": "https://localhost:8080/"
        },
        "id": "AxP4ZVUBrjFx",
        "outputId": "99dac7c4-2c5a-425b-ee85-1f8edcc17658"
      },
      "source": [
        "melek"
      ],
      "execution_count": 11,
      "outputs": [
        {
          "output_type": "execute_result",
          "data": {
            "text/plain": [
              "13"
            ]
          },
          "metadata": {
            "tags": []
          },
          "execution_count": 11
        }
      ]
    },
    {
      "cell_type": "code",
      "metadata": {
        "colab": {
          "base_uri": "https://localhost:8080/"
        },
        "id": "i9X5zudCrlG3",
        "outputId": "f39b232d-4137-4ecd-891a-01b2251f0b6e"
      },
      "source": [
        "#melek=13 değişkenini değiştirmek istersek eğer;\n",
        "melek = 22\n",
        "melek"
      ],
      "execution_count": 12,
      "outputs": [
        {
          "output_type": "execute_result",
          "data": {
            "text/plain": [
              "22"
            ]
          },
          "metadata": {
            "tags": []
          },
          "execution_count": 12
        }
      ]
    },
    {
      "cell_type": "code",
      "metadata": {
        "id": "BRdI6MzSrvWO"
      },
      "source": [
        "melek = 5.2"
      ],
      "execution_count": 13,
      "outputs": []
    },
    {
      "cell_type": "code",
      "metadata": {
        "colab": {
          "base_uri": "https://localhost:8080/"
        },
        "id": "fMQjDU_-r0CI",
        "outputId": "fa698885-b540-4481-d18d-3fa55c66cc7a"
      },
      "source": [
        "melek"
      ],
      "execution_count": 14,
      "outputs": [
        {
          "output_type": "execute_result",
          "data": {
            "text/plain": [
              "5.2"
            ]
          },
          "metadata": {
            "tags": []
          },
          "execution_count": 14
        }
      ]
    },
    {
      "cell_type": "code",
      "metadata": {
        "colab": {
          "base_uri": "https://localhost:8080/"
        },
        "id": "BScr2ukur4TK",
        "outputId": "44d704e6-d028-4604-d12f-989b028d54a4"
      },
      "source": [
        "melek * melek * melek * melek "
      ],
      "execution_count": 15,
      "outputs": [
        {
          "output_type": "execute_result",
          "data": {
            "text/plain": [
              "731.1616000000002"
            ]
          },
          "metadata": {
            "tags": []
          },
          "execution_count": 15
        }
      ]
    },
    {
      "cell_type": "code",
      "metadata": {
        "colab": {
          "base_uri": "https://localhost:8080/"
        },
        "id": "WWbekS8ar5hB",
        "outputId": "4f18bebc-a52c-41de-8ea3-08c25e0b78b0"
      },
      "source": [
        "a = 5\n",
        "b = 6\n",
        "c = a + 8 + b\n",
        "c"
      ],
      "execution_count": 16,
      "outputs": [
        {
          "output_type": "execute_result",
          "data": {
            "text/plain": [
              "19"
            ]
          },
          "metadata": {
            "tags": []
          },
          "execution_count": 16
        }
      ]
    },
    {
      "cell_type": "code",
      "metadata": {
        "colab": {
          "base_uri": "https://localhost:8080/",
          "height": 131
        },
        "id": "TN0tJln4sBRy",
        "outputId": "fe9bc8c6-f1d5-46e4-bb53-81eb18c7a5c6"
      },
      "source": [
        "# Değişken isimleri bir sayı ile başlayamaz.\n",
        "5melek = 10  "
      ],
      "execution_count": 18,
      "outputs": [
        {
          "output_type": "error",
          "ename": "SyntaxError",
          "evalue": "ignored",
          "traceback": [
            "\u001b[0;36m  File \u001b[0;32m\"<ipython-input-18-8c03ca7d0d09>\"\u001b[0;36m, line \u001b[0;32m2\u001b[0m\n\u001b[0;31m    5melek = 10\u001b[0m\n\u001b[0m         ^\u001b[0m\n\u001b[0;31mSyntaxError\u001b[0m\u001b[0;31m:\u001b[0m invalid syntax\n"
          ]
        }
      ]
    },
    {
      "cell_type": "code",
      "metadata": {
        "colab": {
          "base_uri": "https://localhost:8080/",
          "height": 131
        },
        "id": "x331bZ8BsQYT",
        "outputId": "ef793fdb-93b0-49ac-bf12-70f7b84ba601"
      },
      "source": [
        "#Değişken ismi kelimelerden oluşuyorsa aralarında boşluk olamaz.\n",
        "m e l e k = 50"
      ],
      "execution_count": 19,
      "outputs": [
        {
          "output_type": "error",
          "ename": "SyntaxError",
          "evalue": "ignored",
          "traceback": [
            "\u001b[0;36m  File \u001b[0;32m\"<ipython-input-19-b025abc003cd>\"\u001b[0;36m, line \u001b[0;32m2\u001b[0m\n\u001b[0;31m    m e l e k = 50\u001b[0m\n\u001b[0m      ^\u001b[0m\n\u001b[0;31mSyntaxError\u001b[0m\u001b[0;31m:\u001b[0m invalid syntax\n"
          ]
        }
      ]
    },
    {
      "cell_type": "code",
      "metadata": {
        "colab": {
          "base_uri": "https://localhost:8080/"
        },
        "id": "rr2lDyTrsbKa",
        "outputId": "5775c967-81ba-4fd3-ce50-b58a48b20d20"
      },
      "source": [
        "#:'\",<>/?\\()!@#$&*-+ buradaki semboller değişken işmi içinde kullanılamaz.(Sadece _ sembolü kullanılabilir.)\n",
        "\n",
        "\n",
        "\n",
        "_melek = 10  #doğru\n",
        "_melek"
      ],
      "execution_count": 22,
      "outputs": [
        {
          "output_type": "execute_result",
          "data": {
            "text/plain": [
              "10"
            ]
          },
          "metadata": {
            "tags": []
          },
          "execution_count": 22
        }
      ]
    },
    {
      "cell_type": "code",
      "metadata": {
        "colab": {
          "base_uri": "https://localhost:8080/",
          "height": 131
        },
        "id": "7usSL4pkst_d",
        "outputId": "02693e22-de72-42bd-b56d-fae1a7a0150e"
      },
      "source": [
        " #semboller değişken ismi içinde kullanılamaz.\n",
        "i? = 20  #hatalı\n"
      ],
      "execution_count": 24,
      "outputs": [
        {
          "output_type": "error",
          "ename": "SyntaxError",
          "evalue": "ignored",
          "traceback": [
            "\u001b[0;36m  File \u001b[0;32m\"<ipython-input-24-11b77d3653ee>\"\u001b[0;36m, line \u001b[0;32m2\u001b[0m\n\u001b[0;31m    i? = 20  #hatalı\u001b[0m\n\u001b[0m     ^\u001b[0m\n\u001b[0;31mSyntaxError\u001b[0m\u001b[0;31m:\u001b[0m invalid syntax\n"
          ]
        }
      ]
    },
    {
      "cell_type": "code",
      "metadata": {
        "colab": {
          "base_uri": "https://localhost:8080/",
          "height": 131
        },
        "id": "4_xnIchitFZT",
        "outputId": "8df29c7d-df0e-4730-a89e-381e552a2f2b"
      },
      "source": [
        "#Pythonda tanımlı anahtar kelimeler değişken ismi olarak kullanılamaz.(while, not vs.)\n",
        "while = 22  #hatalı"
      ],
      "execution_count": 25,
      "outputs": [
        {
          "output_type": "error",
          "ename": "SyntaxError",
          "evalue": "ignored",
          "traceback": [
            "\u001b[0;36m  File \u001b[0;32m\"<ipython-input-25-5e249cdfdc97>\"\u001b[0;36m, line \u001b[0;32m2\u001b[0m\n\u001b[0;31m    while = 22\u001b[0m\n\u001b[0m          ^\u001b[0m\n\u001b[0;31mSyntaxError\u001b[0m\u001b[0;31m:\u001b[0m invalid syntax\n"
          ]
        }
      ]
    },
    {
      "cell_type": "code",
      "metadata": {
        "id": "QLZP8rJmtPyJ"
      },
      "source": [
        "_i = 5 #doğru"
      ],
      "execution_count": 26,
      "outputs": []
    },
    {
      "cell_type": "code",
      "metadata": {
        "colab": {
          "base_uri": "https://localhost:8080/"
        },
        "id": "wHsiC9ZHtXI5",
        "outputId": "0373ebbf-6c11-4237-9fcc-935b53862958"
      },
      "source": [
        "pi_sayısı = 3.14\n",
        "çap = 8\n",
        "çevre = pi_sayısı * çap\n",
        "çevre"
      ],
      "execution_count": 28,
      "outputs": [
        {
          "output_type": "execute_result",
          "data": {
            "text/plain": [
              "25.12"
            ]
          },
          "metadata": {
            "tags": []
          },
          "execution_count": 28
        }
      ]
    },
    {
      "cell_type": "markdown",
      "metadata": {
        "id": "Evft0E0MtgwY"
      },
      "source": [
        "tanımladığımız a ve b değişkenlerinin birbirleri ile yer değiştirmesini şu şekilde yapabiliriz;"
      ]
    },
    {
      "cell_type": "code",
      "metadata": {
        "id": "q2c-7TYEtiJ9"
      },
      "source": [
        "a = 5\n",
        "b = 8"
      ],
      "execution_count": 29,
      "outputs": []
    },
    {
      "cell_type": "code",
      "metadata": {
        "colab": {
          "base_uri": "https://localhost:8080/"
        },
        "id": "2CSVtl26tpLA",
        "outputId": "01bf9ed5-8383-4ef6-bbaf-1e4a81d73e1f"
      },
      "source": [
        "a"
      ],
      "execution_count": 30,
      "outputs": [
        {
          "output_type": "execute_result",
          "data": {
            "text/plain": [
              "5"
            ]
          },
          "metadata": {
            "tags": []
          },
          "execution_count": 30
        }
      ]
    },
    {
      "cell_type": "code",
      "metadata": {
        "colab": {
          "base_uri": "https://localhost:8080/"
        },
        "id": "WzUjrSEMtoYl",
        "outputId": "12508078-f6d1-4b8b-b21c-d3fbc4bc75de"
      },
      "source": [
        "b"
      ],
      "execution_count": 31,
      "outputs": [
        {
          "output_type": "execute_result",
          "data": {
            "text/plain": [
              "8"
            ]
          },
          "metadata": {
            "tags": []
          },
          "execution_count": 31
        }
      ]
    },
    {
      "cell_type": "code",
      "metadata": {
        "id": "0Czlh3A0tsSu"
      },
      "source": [
        "a,b = b,a"
      ],
      "execution_count": 32,
      "outputs": []
    },
    {
      "cell_type": "code",
      "metadata": {
        "colab": {
          "base_uri": "https://localhost:8080/"
        },
        "id": "0-tgOzBAtwG6",
        "outputId": "1af19b51-c061-414c-c343-60701833604c"
      },
      "source": [
        "a"
      ],
      "execution_count": 33,
      "outputs": [
        {
          "output_type": "execute_result",
          "data": {
            "text/plain": [
              "8"
            ]
          },
          "metadata": {
            "tags": []
          },
          "execution_count": 33
        }
      ]
    },
    {
      "cell_type": "code",
      "metadata": {
        "colab": {
          "base_uri": "https://localhost:8080/"
        },
        "id": "9ui12Hk9txRX",
        "outputId": "024e92a2-bcd4-415b-f8c8-b085e1c4d5a4"
      },
      "source": [
        "b"
      ],
      "execution_count": 34,
      "outputs": [
        {
          "output_type": "execute_result",
          "data": {
            "text/plain": [
              "5"
            ]
          },
          "metadata": {
            "tags": []
          },
          "execution_count": 34
        }
      ]
    },
    {
      "cell_type": "markdown",
      "metadata": {
        "id": "CQY_Cs0vt3D9"
      },
      "source": [
        "Bir değer kendisi ile arttırılmak istenirse şu şekilde de yapılabilir."
      ]
    },
    {
      "cell_type": "code",
      "metadata": {
        "id": "DZR_M-Yut7VG"
      },
      "source": [
        "i = 6"
      ],
      "execution_count": 47,
      "outputs": []
    },
    {
      "cell_type": "code",
      "metadata": {
        "id": "lxWEtCxwt-ZJ"
      },
      "source": [
        "i = i + 2"
      ],
      "execution_count": 48,
      "outputs": []
    },
    {
      "cell_type": "code",
      "metadata": {
        "colab": {
          "base_uri": "https://localhost:8080/"
        },
        "id": "aKu7c9bwuBWG",
        "outputId": "6a3c73e1-9eba-4cee-eaa1-1d97731b8677"
      },
      "source": [
        "i"
      ],
      "execution_count": 49,
      "outputs": [
        {
          "output_type": "execute_result",
          "data": {
            "text/plain": [
              "8"
            ]
          },
          "metadata": {
            "tags": []
          },
          "execution_count": 49
        }
      ]
    },
    {
      "cell_type": "code",
      "metadata": {
        "colab": {
          "base_uri": "https://localhost:8080/"
        },
        "id": "JmLG8TXwuDZ0",
        "outputId": "02fbb0e3-28c6-4c15-ab63-d350a47da5bc"
      },
      "source": [
        "#bir diğer yöntemde bu şekildedir.\n",
        "i += 2\n",
        "i"
      ],
      "execution_count": 50,
      "outputs": [
        {
          "output_type": "execute_result",
          "data": {
            "text/plain": [
              "10"
            ]
          },
          "metadata": {
            "tags": []
          },
          "execution_count": 50
        }
      ]
    },
    {
      "cell_type": "code",
      "metadata": {
        "colab": {
          "base_uri": "https://localhost:8080/"
        },
        "id": "PTAsE4mLubgV",
        "outputId": "4b601f17-7408-4759-a30a-711b484e1181"
      },
      "source": [
        "i += 3\n",
        "i"
      ],
      "execution_count": 51,
      "outputs": [
        {
          "output_type": "execute_result",
          "data": {
            "text/plain": [
              "13"
            ]
          },
          "metadata": {
            "tags": []
          },
          "execution_count": 51
        }
      ]
    },
    {
      "cell_type": "code",
      "metadata": {
        "colab": {
          "base_uri": "https://localhost:8080/"
        },
        "id": "JOKvusgPulAM",
        "outputId": "5a65f256-247b-48fc-b165-6805129ff34f"
      },
      "source": [
        "b = 6\n",
        "b = b * 5\n",
        "b"
      ],
      "execution_count": 52,
      "outputs": [
        {
          "output_type": "execute_result",
          "data": {
            "text/plain": [
              "30"
            ]
          },
          "metadata": {
            "tags": []
          },
          "execution_count": 52
        }
      ]
    },
    {
      "cell_type": "code",
      "metadata": {
        "colab": {
          "base_uri": "https://localhost:8080/"
        },
        "id": "MbGIQxqUusTC",
        "outputId": "87bf28dc-c0fc-4c75-f5ac-e9b80f630e32"
      },
      "source": [
        "b = 6\n",
        "b *= 5\n",
        "b"
      ],
      "execution_count": 53,
      "outputs": [
        {
          "output_type": "execute_result",
          "data": {
            "text/plain": [
              "30"
            ]
          },
          "metadata": {
            "tags": []
          },
          "execution_count": 53
        }
      ]
    }
  ]
}