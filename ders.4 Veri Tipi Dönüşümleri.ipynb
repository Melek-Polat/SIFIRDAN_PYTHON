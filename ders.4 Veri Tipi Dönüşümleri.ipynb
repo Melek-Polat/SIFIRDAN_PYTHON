{
  "nbformat": 4,
  "nbformat_minor": 0,
  "metadata": {
    "colab": {
      "name": "ders 4.Veri Tipi Dönüşümleri.ipynb",
      "provenance": [],
      "authorship_tag": "ABX9TyPppVBq8cKauwEacsYVxCeo",
      "include_colab_link": true
    },
    "kernelspec": {
      "name": "python3",
      "display_name": "Python 3"
    },
    "language_info": {
      "name": "python"
    }
  },
  "cells": [
    {
      "cell_type": "markdown",
      "metadata": {
        "id": "view-in-github",
        "colab_type": "text"
      },
      "source": [
        "<a href=\"https://colab.research.google.com/github/Melek-Polat/SIFIRDAN_PYTHON/blob/main/ders.4%20Veri%20Tipi%20D%C3%B6n%C3%BC%C5%9F%C3%BCmleri.ipynb\" target=\"_parent\"><img src=\"https://colab.research.google.com/assets/colab-badge.svg\" alt=\"Open In Colab\"/></a>"
      ]
    },
    {
      "cell_type": "markdown",
      "metadata": {
        "id": "mrFiFeAtrSO8"
      },
      "source": [
        "#Veri Tipi Dönüşümleri\n",
        "Bazı zaman bir ondalıklı sayıyı tam sayıya dönüştürme hatta ve hatta bir stringi tam sayıya dönüştürme işlemleri programlarımızı yazarken büyük önem taşır.Bu konuda bu tür dönüşümleri öğrenmeye çalışacağız.\n",
        "\n",
        "\n",
        "##Tam Sayıyı Ondalıklı Sayıya Çevirme\n",
        "Bir tam sayıyı ondalıklı sayıya çevirmek için float() fonksiyonunu kullanacağız."
      ]
    },
    {
      "cell_type": "code",
      "metadata": {
        "colab": {
          "base_uri": "https://localhost:8080/"
        },
        "id": "uQAXDyUrsEJn",
        "outputId": "90a9df49-0f90-4baa-b0f7-bba46933d875"
      },
      "source": [
        "#Çevireceğimiz sayıyı parantez içine alıyoruz.\n",
        "a = 50\n",
        "float(a)"
      ],
      "execution_count": 1,
      "outputs": [
        {
          "output_type": "execute_result",
          "data": {
            "text/plain": [
              "50.0"
            ]
          },
          "metadata": {
            "tags": []
          },
          "execution_count": 1
        }
      ]
    },
    {
      "cell_type": "code",
      "metadata": {
        "colab": {
          "base_uri": "https://localhost:8080/"
        },
        "id": "yZr9wR9jseF_",
        "outputId": "e5bfaa4f-4580-4454-c0ce-641f23ae0fd7"
      },
      "source": [
        "float(-1)"
      ],
      "execution_count": 2,
      "outputs": [
        {
          "output_type": "execute_result",
          "data": {
            "text/plain": [
              "-1.0"
            ]
          },
          "metadata": {
            "tags": []
          },
          "execution_count": 2
        }
      ]
    },
    {
      "cell_type": "code",
      "metadata": {
        "colab": {
          "base_uri": "https://localhost:8080/"
        },
        "id": "KCwXSf5Fsq3n",
        "outputId": "5318e261-708d-47cf-d87d-203ce7bd0bec"
      },
      "source": [
        "float(-13)"
      ],
      "execution_count": 4,
      "outputs": [
        {
          "output_type": "execute_result",
          "data": {
            "text/plain": [
              "-13.0"
            ]
          },
          "metadata": {
            "tags": []
          },
          "execution_count": 4
        }
      ]
    },
    {
      "cell_type": "markdown",
      "metadata": {
        "id": "q1kl_VXRs3IJ"
      },
      "source": [
        "#Ondalıklı Sayıyı Tam Sayıya Çevirme\n",
        "Bir ondalıklı sayıyı tam sayıya çevirmek için int() fonksiyonunu kullanabiliriz.Sonuç ondalıklı sayının tam kısmı olarak karşımıza çıkacak."
      ]
    },
    {
      "cell_type": "code",
      "metadata": {
        "colab": {
          "base_uri": "https://localhost:8080/"
        },
        "id": "9OKO8bM0ta98",
        "outputId": "28ed2b3b-908a-4b87-dfab-088cba3269a2"
      },
      "source": [
        "b = 3.14\n",
        "int(b)"
      ],
      "execution_count": 7,
      "outputs": [
        {
          "output_type": "execute_result",
          "data": {
            "text/plain": [
              "3"
            ]
          },
          "metadata": {
            "tags": []
          },
          "execution_count": 7
        }
      ]
    },
    {
      "cell_type": "code",
      "metadata": {
        "colab": {
          "base_uri": "https://localhost:8080/"
        },
        "id": "mfPXct5TtPca",
        "outputId": "028c0431-6905-43cd-9d0d-a633b80119b6"
      },
      "source": [
        "int(40.3)"
      ],
      "execution_count": 5,
      "outputs": [
        {
          "output_type": "execute_result",
          "data": {
            "text/plain": [
              "40"
            ]
          },
          "metadata": {
            "tags": []
          },
          "execution_count": 5
        }
      ]
    },
    {
      "cell_type": "code",
      "metadata": {
        "colab": {
          "base_uri": "https://localhost:8080/"
        },
        "id": "M3RNXG46tSD9",
        "outputId": "2aa7c063-e54b-49a7-c424-fef89a151ff8"
      },
      "source": [
        "int(11.859845678)"
      ],
      "execution_count": 6,
      "outputs": [
        {
          "output_type": "execute_result",
          "data": {
            "text/plain": [
              "11"
            ]
          },
          "metadata": {
            "tags": []
          },
          "execution_count": 6
        }
      ]
    },
    {
      "cell_type": "markdown",
      "metadata": {
        "id": "tFzfsA-qtnRV"
      },
      "source": [
        "#Sayıları Stringlere Çevirme \n",
        "Bir sayıyı stringe çevirmek için str()fonksiyonunu kullanabiliriz.Sayıyı oluşturan tüm rakamlar veya noktalar birer karaktere dönüşecek"
      ]
    },
    {
      "cell_type": "code",
      "metadata": {
        "colab": {
          "base_uri": "https://localhost:8080/",
          "height": 35
        },
        "id": "fb2QDUkdvaq2",
        "outputId": "ce7988d1-753a-4835-8f41-2037a8c92d1e"
      },
      "source": [
        "a = 325684\n",
        "b = str(a)\n",
        "b"
      ],
      "execution_count": 14,
      "outputs": [
        {
          "output_type": "execute_result",
          "data": {
            "application/vnd.google.colaboratory.intrinsic+json": {
              "type": "string"
            },
            "text/plain": [
              "'325684'"
            ]
          },
          "metadata": {
            "tags": []
          },
          "execution_count": 14
        }
      ]
    },
    {
      "cell_type": "code",
      "metadata": {
        "colab": {
          "base_uri": "https://localhost:8080/",
          "height": 35
        },
        "id": "wowsdCzDt9P6",
        "outputId": "d75f4fdc-ac17-44b6-8d4e-972e7891a55d"
      },
      "source": [
        "str(345)"
      ],
      "execution_count": 9,
      "outputs": [
        {
          "output_type": "execute_result",
          "data": {
            "application/vnd.google.colaboratory.intrinsic+json": {
              "type": "string"
            },
            "text/plain": [
              "'345'"
            ]
          },
          "metadata": {
            "tags": []
          },
          "execution_count": 9
        }
      ]
    },
    {
      "cell_type": "code",
      "metadata": {
        "colab": {
          "base_uri": "https://localhost:8080/",
          "height": 35
        },
        "id": "XR1W3WHVuX5K",
        "outputId": "9952b714-07da-48b8-99fd-232c9ef7238e"
      },
      "source": [
        "a = str(3.14)\n",
        "a"
      ],
      "execution_count": 11,
      "outputs": [
        {
          "output_type": "execute_result",
          "data": {
            "application/vnd.google.colaboratory.intrinsic+json": {
              "type": "string"
            },
            "text/plain": [
              "'3.14'"
            ]
          },
          "metadata": {
            "tags": []
          },
          "execution_count": 11
        }
      ]
    },
    {
      "cell_type": "code",
      "metadata": {
        "colab": {
          "base_uri": "https://localhost:8080/"
        },
        "id": "ZwtYlySJu27S",
        "outputId": "845e6809-d06b-4c0b-a029-89ab48d199e4"
      },
      "source": [
        "a = str(345)\n",
        "len(a)"
      ],
      "execution_count": 13,
      "outputs": [
        {
          "output_type": "execute_result",
          "data": {
            "text/plain": [
              "3"
            ]
          },
          "metadata": {
            "tags": []
          },
          "execution_count": 13
        }
      ]
    },
    {
      "cell_type": "code",
      "metadata": {
        "colab": {
          "base_uri": "https://localhost:8080/"
        },
        "id": "5XEy28hZuiyy",
        "outputId": "8c98d425-5897-4ee6-f269-07ec0beebc13"
      },
      "source": [
        "a = str(3.14)\n",
        "len(a)  # a'nın uzunluğu demektir.(noktayı da uzunluk olarak aldı o yüzden uzunluk 4 çıktı.)"
      ],
      "execution_count": 12,
      "outputs": [
        {
          "output_type": "execute_result",
          "data": {
            "text/plain": [
              "4"
            ]
          },
          "metadata": {
            "tags": []
          },
          "execution_count": 12
        }
      ]
    },
    {
      "cell_type": "markdown",
      "metadata": {
        "id": "V81OIzZwvj_X"
      },
      "source": [
        "#Stringleri TamSayıya Çevirme\n",
        "Bir stringi bir tamsayıya çevirmek istediğimiz zaman int()fonksiyonunu kullanabiliriz.Ancak biraz dikkatli olmamızda fayda var.Dönüştürme işlemini yaparken stringin herbir karakterinin bir rakam olduğundan emin olmalıyız."
      ]
    },
    {
      "cell_type": "code",
      "metadata": {
        "colab": {
          "base_uri": "https://localhost:8080/"
        },
        "id": "uVmq9RhxJ_Jz",
        "outputId": "84e64dea-395f-4a30-eb9b-16614e819626"
      },
      "source": [
        "#Doğru\n",
        "a = \"3256458\"\n",
        "int(a)\n"
      ],
      "execution_count": 20,
      "outputs": [
        {
          "output_type": "execute_result",
          "data": {
            "text/plain": [
              "3256458"
            ]
          },
          "metadata": {
            "tags": []
          },
          "execution_count": 20
        }
      ]
    },
    {
      "cell_type": "code",
      "metadata": {
        "colab": {
          "base_uri": "https://localhost:8080/",
          "height": 216
        },
        "id": "7lNnq6TFKRSi",
        "outputId": "1f4885a2-61d1-4611-800e-51423300004c"
      },
      "source": [
        "#Hatalı- her bir karakterin 10^luk tabanda olması gerekir.Harf olduğu için hatalı\n",
        "a = \"ajdhcv457822\"\n",
        "b = int(a)\n",
        "b"
      ],
      "execution_count": 17,
      "outputs": [
        {
          "output_type": "error",
          "ename": "ValueError",
          "evalue": "ignored",
          "traceback": [
            "\u001b[0;31m---------------------------------------------------------------------------\u001b[0m",
            "\u001b[0;31mValueError\u001b[0m                                Traceback (most recent call last)",
            "\u001b[0;32m<ipython-input-17-007212e23f42>\u001b[0m in \u001b[0;36m<module>\u001b[0;34m()\u001b[0m\n\u001b[1;32m      1\u001b[0m \u001b[0;31m#Hatalı- her bir karakterin 10^luk tabanda olması gerekir.Harf olduğu için hatalı\u001b[0m\u001b[0;34m\u001b[0m\u001b[0;34m\u001b[0m\u001b[0;34m\u001b[0m\u001b[0m\n\u001b[1;32m      2\u001b[0m \u001b[0ma\u001b[0m \u001b[0;34m=\u001b[0m \u001b[0;34m\"ajdhcv457822\"\u001b[0m\u001b[0;34m\u001b[0m\u001b[0;34m\u001b[0m\u001b[0m\n\u001b[0;32m----> 3\u001b[0;31m \u001b[0mb\u001b[0m \u001b[0;34m=\u001b[0m \u001b[0mint\u001b[0m\u001b[0;34m(\u001b[0m\u001b[0ma\u001b[0m\u001b[0;34m)\u001b[0m\u001b[0;34m\u001b[0m\u001b[0;34m\u001b[0m\u001b[0m\n\u001b[0m\u001b[1;32m      4\u001b[0m \u001b[0mb\u001b[0m\u001b[0;34m\u001b[0m\u001b[0;34m\u001b[0m\u001b[0m\n",
            "\u001b[0;31mValueError\u001b[0m: invalid literal for int() with base 10: 'ajdhcv457822'"
          ]
        }
      ]
    },
    {
      "cell_type": "code",
      "metadata": {
        "colab": {
          "base_uri": "https://localhost:8080/",
          "height": 182
        },
        "id": "eg7fnRoRLC2V",
        "outputId": "87200a6c-d992-4aa9-ea7a-1d568dfc7128"
      },
      "source": [
        "#Hatalı-hatanın sebebi harflerdir.Harfler değilde rakamlar olsaydı sadece hatalı olmayacaktı.\n",
        "a = \"452fjdhfv\"\n",
        "int(a)"
      ],
      "execution_count": 19,
      "outputs": [
        {
          "output_type": "error",
          "ename": "ValueError",
          "evalue": "ignored",
          "traceback": [
            "\u001b[0;31m---------------------------------------------------------------------------\u001b[0m",
            "\u001b[0;31mValueError\u001b[0m                                Traceback (most recent call last)",
            "\u001b[0;32m<ipython-input-19-1bfb4fdec041>\u001b[0m in \u001b[0;36m<module>\u001b[0;34m()\u001b[0m\n\u001b[1;32m      1\u001b[0m \u001b[0ma\u001b[0m \u001b[0;34m=\u001b[0m \u001b[0;34m\"452fjdhfv\"\u001b[0m\u001b[0;34m\u001b[0m\u001b[0;34m\u001b[0m\u001b[0m\n\u001b[0;32m----> 2\u001b[0;31m \u001b[0mint\u001b[0m\u001b[0;34m(\u001b[0m\u001b[0ma\u001b[0m\u001b[0;34m)\u001b[0m\u001b[0;34m\u001b[0m\u001b[0;34m\u001b[0m\u001b[0m\n\u001b[0m",
            "\u001b[0;31mValueError\u001b[0m: invalid literal for int() with base 10: '452fjdhfv'"
          ]
        }
      ]
    },
    {
      "cell_type": "markdown",
      "metadata": {
        "id": "PEEfjxQSL7Zx"
      },
      "source": [
        "#Stringleri Ondalıklı Sayıya Çevirme\n",
        "Bir stringi bir ondalıklı sayıya çevirmek istediğimiz zaman float() fonksiyonunu kullanabiliriz.Ancak biraz dikkatli olmamızda fayda var.Dönüştürme işlemini yaparken stringin ondalıklı sayı formatına uygun olduğundan emin olmalıyız."
      ]
    },
    {
      "cell_type": "code",
      "metadata": {
        "colab": {
          "base_uri": "https://localhost:8080/"
        },
        "id": "STur6AHDMhWQ",
        "outputId": "bc10687b-1a19-4aa9-d834-8bb7e6019745"
      },
      "source": [
        "#Doğru\n",
        "a = \"3.12344564\"\n",
        "float(a)"
      ],
      "execution_count": 22,
      "outputs": [
        {
          "output_type": "execute_result",
          "data": {
            "text/plain": [
              "3.12344564"
            ]
          },
          "metadata": {
            "tags": []
          },
          "execution_count": 22
        }
      ]
    },
    {
      "cell_type": "code",
      "metadata": {
        "colab": {
          "base_uri": "https://localhost:8080/",
          "height": 199
        },
        "id": "OXyXDBIKMqxZ",
        "outputId": "f0d35a48-e2ad-4f83-a35e-7214d2604df0"
      },
      "source": [
        "#Hatalı-çünkü böyle bir ondalık form yoktur.\n",
        "a = \"3.12445.458\"\n",
        "float(a)"
      ],
      "execution_count": 23,
      "outputs": [
        {
          "output_type": "error",
          "ename": "ValueError",
          "evalue": "ignored",
          "traceback": [
            "\u001b[0;31m---------------------------------------------------------------------------\u001b[0m",
            "\u001b[0;31mValueError\u001b[0m                                Traceback (most recent call last)",
            "\u001b[0;32m<ipython-input-23-056e226167dc>\u001b[0m in \u001b[0;36m<module>\u001b[0;34m()\u001b[0m\n\u001b[1;32m      1\u001b[0m \u001b[0;31m#Hatalı\u001b[0m\u001b[0;34m\u001b[0m\u001b[0;34m\u001b[0m\u001b[0;34m\u001b[0m\u001b[0m\n\u001b[1;32m      2\u001b[0m \u001b[0ma\u001b[0m \u001b[0;34m=\u001b[0m \u001b[0;34m\"3.12445.458\"\u001b[0m\u001b[0;34m\u001b[0m\u001b[0;34m\u001b[0m\u001b[0m\n\u001b[0;32m----> 3\u001b[0;31m \u001b[0mfloat\u001b[0m\u001b[0;34m(\u001b[0m\u001b[0ma\u001b[0m\u001b[0;34m)\u001b[0m\u001b[0;34m\u001b[0m\u001b[0;34m\u001b[0m\u001b[0m\n\u001b[0m",
            "\u001b[0;31mValueError\u001b[0m: could not convert string to float: '3.12445.458'"
          ]
        }
      ]
    }
  ]
}